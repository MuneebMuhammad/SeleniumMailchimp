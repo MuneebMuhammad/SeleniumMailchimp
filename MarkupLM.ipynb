{
 "cells": [
  {
   "cell_type": "code",
   "execution_count": 7,
   "metadata": {},
   "outputs": [
    {
     "name": "stdout",
     "output_type": "stream",
     "text": [
      "Intel MKL WARNING: Support of Intel(R) Streaming SIMD Extensions 4.2 (Intel(R) SSE4.2) enabled only processors has been deprecated. Intel oneAPI Math Kernel Library 2025.0 will require Intel(R) Advanced Vector Extensions (Intel(R) AVX) instructions.\n",
      "Intel MKL WARNING: Support of Intel(R) Streaming SIMD Extensions 4.2 (Intel(R) SSE4.2) enabled only processors has been deprecated. Intel oneAPI Math Kernel Library 2025.0 will require Intel(R) Advanced Vector Extensions (Intel(R) AVX) instructions.\n"
     ]
    },
    {
     "name": "stderr",
     "output_type": "stream",
     "text": [
      "/Users/muneebmuhammad/opt/anaconda3/envs/seleniumScrap/lib/python3.9/site-packages/tqdm/auto.py:21: TqdmWarning: IProgress not found. Please update jupyter and ipywidgets. See https://ipywidgets.readthedocs.io/en/stable/user_install.html\n",
      "  from .autonotebook import tqdm as notebook_tqdm\n"
     ]
    }
   ],
   "source": [
    "from transformers import MarkupLMFeatureExtractor\n"
   ]
  },
  {
   "attachments": {},
   "cell_type": "markdown",
   "metadata": {},
   "source": [
    "### Feature Extractor"
   ]
  },
  {
   "cell_type": "code",
   "execution_count": 285,
   "metadata": {},
   "outputs": [
    {
     "name": "stdout",
     "output_type": "stream",
     "text": [
      "dict_keys(['nodes', 'xpaths'])\n"
     ]
    }
   ],
   "source": [
    "with open(\"../datasets/datasetV3/40/DOM.txt\", \"r\") as f:\n",
    "    single_html_string = f.read()\n",
    "\n",
    "feature_extractor = MarkupLMFeatureExtractor()\n",
    "\n",
    "html_string = \"\"\"\n",
    " <!DOCTYPE html>\n",
    " <html>\n",
    " <head>\n",
    " <title>Hello world</title>\n",
    " </head>\n",
    " <body>\n",
    " <h1>Welcome</h1>\n",
    " <p>My name is Niels.</p>\n",
    " </body>\n",
    " </html>\"\"\"\n",
    "# single example\n",
    "encoding = feature_extractor(single_html_string)\n",
    "print(encoding.keys())"
   ]
  },
  {
   "cell_type": "code",
   "execution_count": 286,
   "metadata": {},
   "outputs": [
    {
     "data": {
      "text/plain": [
       "[['Choose Format - ConvertKit',\n",
       "  'ConvertKit',\n",
       "  'Grow',\n",
       "  'Send',\n",
       "  'Automate',\n",
       "  'Earn',\n",
       "  'Learn',\n",
       "  'Menu',\n",
       "  'Trial: 14 days remaining',\n",
       "  'Upgrade now',\n",
       "  'Muneeb',\n",
       "  'Enable email sending & form subscriptions',\n",
       "  'Describe your business or blog topic in a sentence or two',\n",
       "  \"Thanks for submitting a request for account approval. We'll reach out to you within the next few hours.\",\n",
       "  'Choose the display format of this form',\n",
       "  'Inline',\n",
       "  'Modal',\n",
       "  'Slide in',\n",
       "  'Sticky bar',\n",
       "  '© 2013 - 2023 ConvertKit. All Rights Reserved.',\n",
       "  'You’ve logged in to a different account!',\n",
       "  'mmuhammad.bscs20seecs@seecs.edu.pk',\n",
       "  'Use account from other tab',\n",
       "  'Subscribers',\n",
       "  'Browse all your subscribers and customers.',\n",
       "  'Creator Profile',\n",
       "  'Your hub on the internet. A one-stop-shop for your subscribers to find all your content & products.',\n",
       "  'Landing Pages & Forms',\n",
       "  'Gather subscribers with a hosted landing page or a form embedded on your website.',\n",
       "  'Creator Network',\n",
       "  'Find creators to partner with to grow your audience faster.',\n",
       "  'Broadcasts',\n",
       "  'Send an email to some, or all, of your audience, and to your public feed.',\n",
       "  'Email Templates',\n",
       "  'Create email templates to use as a starting point in your emails.',\n",
       "  'Sequences',\n",
       "  'Create multiple emails that are sent in order.',\n",
       "  'Snippets',\n",
       "  'Supercharge your emails with reusable blocks of content.',\n",
       "  'Visual Automations',\n",
       "  'Create powerful, automated funnels for your audience.',\n",
       "  'Integrations',\n",
       "  'Connect your content with ConvertKit by integrating with your other accounts.',\n",
       "  'Rules',\n",
       "  '\"If this, then that\" automation rules.',\n",
       "  'RSS',\n",
       "  'Automagically generate emails or digests when RSS feeds update.',\n",
       "  'Products',\n",
       "  'Sell digital products and content subscriptions directly to your audience.',\n",
       "  'Tip Jars',\n",
       "  'Give your audience a way to send you a tip for your content.',\n",
       "  'Payouts',\n",
       "  'See a breakdown of all payouts you’ve received.',\n",
       "  'Documentation',\n",
       "  'Read the documentation for helpful articles & tutorials.',\n",
       "  'Community',\n",
       "  'Got a burning question? Ask the community for advice!',\n",
       "  'Creator University',\n",
       "  'In-depth courses to help you earn a living as a creator with ConvertKit.',\n",
       "  \"You're on a Creator Plan free trial!\",\n",
       "  'Upgrade to continue to use all the features you have access to without interruption.',\n",
       "  'Upgrade now',\n",
       "  'Settings',\n",
       "  'Help',\n",
       "  'Log out',\n",
       "  '⌘',\n",
       "  'K']]"
      ]
     },
     "execution_count": 286,
     "metadata": {},
     "output_type": "execute_result"
    }
   ],
   "source": [
    "encoding['nodes']"
   ]
  },
  {
   "cell_type": "code",
   "execution_count": 287,
   "metadata": {},
   "outputs": [],
   "source": [
    "encoding['nodes'][0]\n",
    "with open('../datasets/datasetV3/40/content1.txt', 'w') as f:\n",
    "    f.write(''.join(encoding['nodes'][0]))"
   ]
  },
  {
   "cell_type": "code",
   "execution_count": 15,
   "metadata": {},
   "outputs": [
    {
     "data": {
      "text/plain": [
       "['/html/head/title', '/html/body/h1', '/html/body/p']"
      ]
     },
     "execution_count": 15,
     "metadata": {},
     "output_type": "execute_result"
    }
   ],
   "source": [
    "encoding['xpaths'][0]"
   ]
  },
  {
   "attachments": {},
   "cell_type": "markdown",
   "metadata": {},
   "source": [
    "### Processor"
   ]
  },
  {
   "cell_type": "code",
   "execution_count": 16,
   "metadata": {},
   "outputs": [
    {
     "name": "stderr",
     "output_type": "stream",
     "text": [
      "Downloading (…)rocessor_config.json: 100%|██████████| 100/100 [00:00<00:00, 16.9kB/s]\n",
      "Downloading (…)okenizer_config.json: 100%|██████████| 5.53k/5.53k [00:00<00:00, 1.50MB/s]\n",
      "Downloading (…)olve/main/vocab.json: 100%|██████████| 798k/798k [00:00<00:00, 904kB/s]\n",
      "Downloading (…)olve/main/merges.txt: 100%|██████████| 456k/456k [00:00<00:00, 1.04MB/s]\n",
      "Downloading (…)/main/tokenizer.json: 100%|██████████| 2.11M/2.11M [00:01<00:00, 1.08MB/s]\n",
      "Downloading (…)in/added_tokens.json: 100%|██████████| 55.0/55.0 [00:00<00:00, 27.5kB/s]\n",
      "Downloading (…)cial_tokens_map.json: 100%|██████████| 280/280 [00:00<00:00, 132kB/s]\n"
     ]
    }
   ],
   "source": [
    "from transformers import MarkupLMProcessor\n",
    "\n",
    "processor = MarkupLMProcessor.from_pretrained(\"microsoft/markuplm-base\")"
   ]
  },
  {
   "cell_type": "code",
   "execution_count": 310,
   "metadata": {},
   "outputs": [],
   "source": [
    "import torch"
   ]
  },
  {
   "cell_type": "code",
   "execution_count": 311,
   "metadata": {},
   "outputs": [],
   "source": [
    "def offsetCumulation(offset):\n",
    "    et = 0\n",
    "    for r, i in enumerate(offset):\n",
    "        if offset[r][0] == torch.tensor([0]) and r !=0:\n",
    "            et = offset[r-1][1]\n",
    "        if offset[r][1] == torch.tensor([0]):\n",
    "            et = 0\n",
    "        offset[r][0] = et+offset[r][0]\n",
    "        offset[r][1] = et+offset[r][1]\n",
    "    return offset"
   ]
  },
  {
   "cell_type": "code",
   "execution_count": null,
   "metadata": {},
   "outputs": [],
   "source": []
  },
  {
   "cell_type": "code",
   "execution_count": 315,
   "metadata": {},
   "outputs": [],
   "source": [
    "offset = offsetCumulation(encoding['offset_mapping'][0])"
   ]
  },
  {
   "cell_type": "code",
   "execution_count": 316,
   "metadata": {},
   "outputs": [
    {
     "data": {
      "text/plain": [
       "tensor([[ 0,  0],\n",
       "        [ 0,  4],\n",
       "        [ 4,  7],\n",
       "        [ 7, 11],\n",
       "        [11, 16],\n",
       "        [ 0,  0],\n",
       "        [ 0,  5],\n",
       "        [ 5, 11],\n",
       "        [11, 18],\n",
       "        [18, 19],\n",
       "        [19, 22],\n",
       "        [22, 26],\n",
       "        [26, 28],\n",
       "        [28, 29],\n",
       "        [ 0,  0]])"
      ]
     },
     "execution_count": 316,
     "metadata": {},
     "output_type": "execute_result"
    }
   ],
   "source": [
    "offset"
   ]
  },
  {
   "cell_type": "code",
   "execution_count": 318,
   "metadata": {},
   "outputs": [
    {
     "data": {
      "text/plain": [
       "tensor(232)"
      ]
     },
     "execution_count": 318,
     "metadata": {},
     "output_type": "execute_result"
    }
   ],
   "source": [
    "encoding['input_ids'][0][7]"
   ]
  },
  {
   "cell_type": "code",
   "execution_count": 320,
   "metadata": {},
   "outputs": [
    {
     "data": {
      "text/plain": [
       "' world'"
      ]
     },
     "execution_count": 320,
     "metadata": {},
     "output_type": "execute_result"
    }
   ],
   "source": [
    "processor.decode(encoding['input_ids'][0][7])"
   ]
  },
  {
   "cell_type": "code",
   "execution_count": 65,
   "metadata": {},
   "outputs": [
    {
     "data": {
      "text/plain": [
       "tensor([[0, 0, 0, 0, 0, 0, 0, 0, 0, 0, 0, 0, 0, 0, 0]])"
      ]
     },
     "execution_count": 65,
     "metadata": {},
     "output_type": "execute_result"
    }
   ],
   "source": [
    "encoding['token_type_ids']"
   ]
  },
  {
   "cell_type": "code",
   "execution_count": 55,
   "metadata": {},
   "outputs": [
    {
     "data": {
      "text/plain": [
       "(15, 15, 15)"
      ]
     },
     "execution_count": 55,
     "metadata": {},
     "output_type": "execute_result"
    }
   ],
   "source": [
    "len(encoding['input_ids'][0]), len(encoding['xpath_tags_seq'][0]), len(encoding['xpath_subs_seq'][0])"
   ]
  },
  {
   "cell_type": "code",
   "execution_count": 56,
   "metadata": {},
   "outputs": [
    {
     "data": {
      "text/plain": [
       "tensor([    0,  2264,    16,     5,   766,     2, 31414,   232, 25194,   100,\n",
       "          524,  6760,  1942,   428,     2])"
      ]
     },
     "execution_count": 56,
     "metadata": {},
     "output_type": "execute_result"
    }
   ],
   "source": [
    "encoding['input_ids'][0]"
   ]
  },
  {
   "cell_type": "code",
   "execution_count": 57,
   "metadata": {},
   "outputs": [
    {
     "data": {
      "text/plain": [
       "tensor([[216, 216, 216, 216, 216, 216, 216, 216, 216, 216, 216, 216, 216, 216,\n",
       "         216, 216, 216, 216, 216, 216, 216, 216, 216, 216, 216, 216, 216, 216,\n",
       "         216, 216, 216, 216, 216, 216, 216, 216, 216, 216, 216, 216, 216, 216,\n",
       "         216, 216, 216, 216, 216, 216, 216, 216],\n",
       "        [216, 216, 216, 216, 216, 216, 216, 216, 216, 216, 216, 216, 216, 216,\n",
       "         216, 216, 216, 216, 216, 216, 216, 216, 216, 216, 216, 216, 216, 216,\n",
       "         216, 216, 216, 216, 216, 216, 216, 216, 216, 216, 216, 216, 216, 216,\n",
       "         216, 216, 216, 216, 216, 216, 216, 216],\n",
       "        [216, 216, 216, 216, 216, 216, 216, 216, 216, 216, 216, 216, 216, 216,\n",
       "         216, 216, 216, 216, 216, 216, 216, 216, 216, 216, 216, 216, 216, 216,\n",
       "         216, 216, 216, 216, 216, 216, 216, 216, 216, 216, 216, 216, 216, 216,\n",
       "         216, 216, 216, 216, 216, 216, 216, 216],\n",
       "        [216, 216, 216, 216, 216, 216, 216, 216, 216, 216, 216, 216, 216, 216,\n",
       "         216, 216, 216, 216, 216, 216, 216, 216, 216, 216, 216, 216, 216, 216,\n",
       "         216, 216, 216, 216, 216, 216, 216, 216, 216, 216, 216, 216, 216, 216,\n",
       "         216, 216, 216, 216, 216, 216, 216, 216],\n",
       "        [216, 216, 216, 216, 216, 216, 216, 216, 216, 216, 216, 216, 216, 216,\n",
       "         216, 216, 216, 216, 216, 216, 216, 216, 216, 216, 216, 216, 216, 216,\n",
       "         216, 216, 216, 216, 216, 216, 216, 216, 216, 216, 216, 216, 216, 216,\n",
       "         216, 216, 216, 216, 216, 216, 216, 216],\n",
       "        [216, 216, 216, 216, 216, 216, 216, 216, 216, 216, 216, 216, 216, 216,\n",
       "         216, 216, 216, 216, 216, 216, 216, 216, 216, 216, 216, 216, 216, 216,\n",
       "         216, 216, 216, 216, 216, 216, 216, 216, 216, 216, 216, 216, 216, 216,\n",
       "         216, 216, 216, 216, 216, 216, 216, 216],\n",
       "        [109, 104, 200, 216, 216, 216, 216, 216, 216, 216, 216, 216, 216, 216,\n",
       "         216, 216, 216, 216, 216, 216, 216, 216, 216, 216, 216, 216, 216, 216,\n",
       "         216, 216, 216, 216, 216, 216, 216, 216, 216, 216, 216, 216, 216, 216,\n",
       "         216, 216, 216, 216, 216, 216, 216, 216],\n",
       "        [109, 104, 200, 216, 216, 216, 216, 216, 216, 216, 216, 216, 216, 216,\n",
       "         216, 216, 216, 216, 216, 216, 216, 216, 216, 216, 216, 216, 216, 216,\n",
       "         216, 216, 216, 216, 216, 216, 216, 216, 216, 216, 216, 216, 216, 216,\n",
       "         216, 216, 216, 216, 216, 216, 216, 216],\n",
       "        [109,  25,  98, 216, 216, 216, 216, 216, 216, 216, 216, 216, 216, 216,\n",
       "         216, 216, 216, 216, 216, 216, 216, 216, 216, 216, 216, 216, 216, 216,\n",
       "         216, 216, 216, 216, 216, 216, 216, 216, 216, 216, 216, 216, 216, 216,\n",
       "         216, 216, 216, 216, 216, 216, 216, 216],\n",
       "        [109,  25, 148, 216, 216, 216, 216, 216, 216, 216, 216, 216, 216, 216,\n",
       "         216, 216, 216, 216, 216, 216, 216, 216, 216, 216, 216, 216, 216, 216,\n",
       "         216, 216, 216, 216, 216, 216, 216, 216, 216, 216, 216, 216, 216, 216,\n",
       "         216, 216, 216, 216, 216, 216, 216, 216],\n",
       "        [109,  25, 148, 216, 216, 216, 216, 216, 216, 216, 216, 216, 216, 216,\n",
       "         216, 216, 216, 216, 216, 216, 216, 216, 216, 216, 216, 216, 216, 216,\n",
       "         216, 216, 216, 216, 216, 216, 216, 216, 216, 216, 216, 216, 216, 216,\n",
       "         216, 216, 216, 216, 216, 216, 216, 216],\n",
       "        [109,  25, 148, 216, 216, 216, 216, 216, 216, 216, 216, 216, 216, 216,\n",
       "         216, 216, 216, 216, 216, 216, 216, 216, 216, 216, 216, 216, 216, 216,\n",
       "         216, 216, 216, 216, 216, 216, 216, 216, 216, 216, 216, 216, 216, 216,\n",
       "         216, 216, 216, 216, 216, 216, 216, 216],\n",
       "        [109,  25, 148, 216, 216, 216, 216, 216, 216, 216, 216, 216, 216, 216,\n",
       "         216, 216, 216, 216, 216, 216, 216, 216, 216, 216, 216, 216, 216, 216,\n",
       "         216, 216, 216, 216, 216, 216, 216, 216, 216, 216, 216, 216, 216, 216,\n",
       "         216, 216, 216, 216, 216, 216, 216, 216],\n",
       "        [109,  25, 148, 216, 216, 216, 216, 216, 216, 216, 216, 216, 216, 216,\n",
       "         216, 216, 216, 216, 216, 216, 216, 216, 216, 216, 216, 216, 216, 216,\n",
       "         216, 216, 216, 216, 216, 216, 216, 216, 216, 216, 216, 216, 216, 216,\n",
       "         216, 216, 216, 216, 216, 216, 216, 216],\n",
       "        [216, 216, 216, 216, 216, 216, 216, 216, 216, 216, 216, 216, 216, 216,\n",
       "         216, 216, 216, 216, 216, 216, 216, 216, 216, 216, 216, 216, 216, 216,\n",
       "         216, 216, 216, 216, 216, 216, 216, 216, 216, 216, 216, 216, 216, 216,\n",
       "         216, 216, 216, 216, 216, 216, 216, 216]])"
      ]
     },
     "execution_count": 57,
     "metadata": {},
     "output_type": "execute_result"
    }
   ],
   "source": [
    "encoding['xpath_tags_seq'][0]"
   ]
  },
  {
   "cell_type": "code",
   "execution_count": 58,
   "metadata": {},
   "outputs": [
    {
     "data": {
      "text/plain": [
       "tensor([True, True, True, True, True, True, True, True, True, True, True, True,\n",
       "        True, True, True, True, True, True, True, True, True, True, True, True,\n",
       "        True, True, True, True, True, True, True, True, True, True, True, True,\n",
       "        True, True, True, True, True, True, True, True, True, True, True, True,\n",
       "        True, True])"
      ]
     },
     "execution_count": 58,
     "metadata": {},
     "output_type": "execute_result"
    }
   ],
   "source": [
    "encoding['xpath_tags_seq'][0][2] == encoding['xpath_tags_seq'][0][3]"
   ]
  },
  {
   "cell_type": "code",
   "execution_count": 59,
   "metadata": {},
   "outputs": [
    {
     "data": {
      "text/plain": [
       "tensor([[1001, 1001, 1001, 1001, 1001, 1001, 1001, 1001, 1001, 1001, 1001, 1001,\n",
       "         1001, 1001, 1001, 1001, 1001, 1001, 1001, 1001, 1001, 1001, 1001, 1001,\n",
       "         1001, 1001, 1001, 1001, 1001, 1001, 1001, 1001, 1001, 1001, 1001, 1001,\n",
       "         1001, 1001, 1001, 1001, 1001, 1001, 1001, 1001, 1001, 1001, 1001, 1001,\n",
       "         1001, 1001],\n",
       "        [1001, 1001, 1001, 1001, 1001, 1001, 1001, 1001, 1001, 1001, 1001, 1001,\n",
       "         1001, 1001, 1001, 1001, 1001, 1001, 1001, 1001, 1001, 1001, 1001, 1001,\n",
       "         1001, 1001, 1001, 1001, 1001, 1001, 1001, 1001, 1001, 1001, 1001, 1001,\n",
       "         1001, 1001, 1001, 1001, 1001, 1001, 1001, 1001, 1001, 1001, 1001, 1001,\n",
       "         1001, 1001],\n",
       "        [1001, 1001, 1001, 1001, 1001, 1001, 1001, 1001, 1001, 1001, 1001, 1001,\n",
       "         1001, 1001, 1001, 1001, 1001, 1001, 1001, 1001, 1001, 1001, 1001, 1001,\n",
       "         1001, 1001, 1001, 1001, 1001, 1001, 1001, 1001, 1001, 1001, 1001, 1001,\n",
       "         1001, 1001, 1001, 1001, 1001, 1001, 1001, 1001, 1001, 1001, 1001, 1001,\n",
       "         1001, 1001],\n",
       "        [1001, 1001, 1001, 1001, 1001, 1001, 1001, 1001, 1001, 1001, 1001, 1001,\n",
       "         1001, 1001, 1001, 1001, 1001, 1001, 1001, 1001, 1001, 1001, 1001, 1001,\n",
       "         1001, 1001, 1001, 1001, 1001, 1001, 1001, 1001, 1001, 1001, 1001, 1001,\n",
       "         1001, 1001, 1001, 1001, 1001, 1001, 1001, 1001, 1001, 1001, 1001, 1001,\n",
       "         1001, 1001],\n",
       "        [1001, 1001, 1001, 1001, 1001, 1001, 1001, 1001, 1001, 1001, 1001, 1001,\n",
       "         1001, 1001, 1001, 1001, 1001, 1001, 1001, 1001, 1001, 1001, 1001, 1001,\n",
       "         1001, 1001, 1001, 1001, 1001, 1001, 1001, 1001, 1001, 1001, 1001, 1001,\n",
       "         1001, 1001, 1001, 1001, 1001, 1001, 1001, 1001, 1001, 1001, 1001, 1001,\n",
       "         1001, 1001],\n",
       "        [1001, 1001, 1001, 1001, 1001, 1001, 1001, 1001, 1001, 1001, 1001, 1001,\n",
       "         1001, 1001, 1001, 1001, 1001, 1001, 1001, 1001, 1001, 1001, 1001, 1001,\n",
       "         1001, 1001, 1001, 1001, 1001, 1001, 1001, 1001, 1001, 1001, 1001, 1001,\n",
       "         1001, 1001, 1001, 1001, 1001, 1001, 1001, 1001, 1001, 1001, 1001, 1001,\n",
       "         1001, 1001],\n",
       "        [ 109,  104,  200, 1001, 1001, 1001, 1001, 1001, 1001, 1001, 1001, 1001,\n",
       "         1001, 1001, 1001, 1001, 1001, 1001, 1001, 1001, 1001, 1001, 1001, 1001,\n",
       "         1001, 1001, 1001, 1001, 1001, 1001, 1001, 1001, 1001, 1001, 1001, 1001,\n",
       "         1001, 1001, 1001, 1001, 1001, 1001, 1001, 1001, 1001, 1001, 1001, 1001,\n",
       "         1001, 1001],\n",
       "        [ 109,  104,  200, 1001, 1001, 1001, 1001, 1001, 1001, 1001, 1001, 1001,\n",
       "         1001, 1001, 1001, 1001, 1001, 1001, 1001, 1001, 1001, 1001, 1001, 1001,\n",
       "         1001, 1001, 1001, 1001, 1001, 1001, 1001, 1001, 1001, 1001, 1001, 1001,\n",
       "         1001, 1001, 1001, 1001, 1001, 1001, 1001, 1001, 1001, 1001, 1001, 1001,\n",
       "         1001, 1001],\n",
       "        [ 109,   25,   98, 1001, 1001, 1001, 1001, 1001, 1001, 1001, 1001, 1001,\n",
       "         1001, 1001, 1001, 1001, 1001, 1001, 1001, 1001, 1001, 1001, 1001, 1001,\n",
       "         1001, 1001, 1001, 1001, 1001, 1001, 1001, 1001, 1001, 1001, 1001, 1001,\n",
       "         1001, 1001, 1001, 1001, 1001, 1001, 1001, 1001, 1001, 1001, 1001, 1001,\n",
       "         1001, 1001],\n",
       "        [ 109,   25,  148, 1001, 1001, 1001, 1001, 1001, 1001, 1001, 1001, 1001,\n",
       "         1001, 1001, 1001, 1001, 1001, 1001, 1001, 1001, 1001, 1001, 1001, 1001,\n",
       "         1001, 1001, 1001, 1001, 1001, 1001, 1001, 1001, 1001, 1001, 1001, 1001,\n",
       "         1001, 1001, 1001, 1001, 1001, 1001, 1001, 1001, 1001, 1001, 1001, 1001,\n",
       "         1001, 1001],\n",
       "        [ 109,   25,  148, 1001, 1001, 1001, 1001, 1001, 1001, 1001, 1001, 1001,\n",
       "         1001, 1001, 1001, 1001, 1001, 1001, 1001, 1001, 1001, 1001, 1001, 1001,\n",
       "         1001, 1001, 1001, 1001, 1001, 1001, 1001, 1001, 1001, 1001, 1001, 1001,\n",
       "         1001, 1001, 1001, 1001, 1001, 1001, 1001, 1001, 1001, 1001, 1001, 1001,\n",
       "         1001, 1001],\n",
       "        [ 109,   25,  148, 1001, 1001, 1001, 1001, 1001, 1001, 1001, 1001, 1001,\n",
       "         1001, 1001, 1001, 1001, 1001, 1001, 1001, 1001, 1001, 1001, 1001, 1001,\n",
       "         1001, 1001, 1001, 1001, 1001, 1001, 1001, 1001, 1001, 1001, 1001, 1001,\n",
       "         1001, 1001, 1001, 1001, 1001, 1001, 1001, 1001, 1001, 1001, 1001, 1001,\n",
       "         1001, 1001],\n",
       "        [ 109,   25,  148, 1001, 1001, 1001, 1001, 1001, 1001, 1001, 1001, 1001,\n",
       "         1001, 1001, 1001, 1001, 1001, 1001, 1001, 1001, 1001, 1001, 1001, 1001,\n",
       "         1001, 1001, 1001, 1001, 1001, 1001, 1001, 1001, 1001, 1001, 1001, 1001,\n",
       "         1001, 1001, 1001, 1001, 1001, 1001, 1001, 1001, 1001, 1001, 1001, 1001,\n",
       "         1001, 1001],\n",
       "        [ 109,   25,  148, 1001, 1001, 1001, 1001, 1001, 1001, 1001, 1001, 1001,\n",
       "         1001, 1001, 1001, 1001, 1001, 1001, 1001, 1001, 1001, 1001, 1001, 1001,\n",
       "         1001, 1001, 1001, 1001, 1001, 1001, 1001, 1001, 1001, 1001, 1001, 1001,\n",
       "         1001, 1001, 1001, 1001, 1001, 1001, 1001, 1001, 1001, 1001, 1001, 1001,\n",
       "         1001, 1001],\n",
       "        [1001, 1001, 1001, 1001, 1001, 1001, 1001, 1001, 1001, 1001, 1001, 1001,\n",
       "         1001, 1001, 1001, 1001, 1001, 1001, 1001, 1001, 1001, 1001, 1001, 1001,\n",
       "         1001, 1001, 1001, 1001, 1001, 1001, 1001, 1001, 1001, 1001, 1001, 1001,\n",
       "         1001, 1001, 1001, 1001, 1001, 1001, 1001, 1001, 1001, 1001, 1001, 1001,\n",
       "         1001, 1001]])"
      ]
     },
     "execution_count": 59,
     "metadata": {},
     "output_type": "execute_result"
    }
   ],
   "source": [
    "encoding['xpath_subs_seq'][0]"
   ]
  },
  {
   "attachments": {},
   "cell_type": "markdown",
   "metadata": {},
   "source": [
    "### Model"
   ]
  },
  {
   "cell_type": "code",
   "execution_count": 50,
   "metadata": {},
   "outputs": [],
   "source": [
    "from transformers import MarkupLMModel, MarkupLMConfig\n",
    "\n",
    "# Initializing a MarkupLM microsoft/markuplm-base style configuration\n",
    "configuration = MarkupLMConfig()\n",
    "\n",
    "# Initializing a model from the microsoft/markuplm-base style configuration\n",
    "model = MarkupLMModel(configuration)\n",
    "\n",
    "# Accessing the model configuration\n",
    "configuration = model.config"
   ]
  },
  {
   "cell_type": "code",
   "execution_count": 52,
   "metadata": {},
   "outputs": [
    {
     "data": {
      "text/plain": [
       "MarkupLMConfig {\n",
       "  \"attention_probs_dropout_prob\": 0.1,\n",
       "  \"bos_token_id\": 0,\n",
       "  \"classifier_dropout\": null,\n",
       "  \"eos_token_id\": 2,\n",
       "  \"gradient_checkpointing\": false,\n",
       "  \"hidden_act\": \"gelu\",\n",
       "  \"hidden_dropout_prob\": 0.1,\n",
       "  \"hidden_size\": 768,\n",
       "  \"initializer_range\": 0.02,\n",
       "  \"intermediate_size\": 3072,\n",
       "  \"layer_norm_eps\": 1e-12,\n",
       "  \"max_depth\": 50,\n",
       "  \"max_position_embeddings\": 512,\n",
       "  \"max_xpath_subs_unit_embeddings\": 1024,\n",
       "  \"max_xpath_tag_unit_embeddings\": 256,\n",
       "  \"model_type\": \"markuplm\",\n",
       "  \"num_attention_heads\": 12,\n",
       "  \"num_hidden_layers\": 12,\n",
       "  \"pad_token_id\": 0,\n",
       "  \"position_embedding_type\": \"absolute\",\n",
       "  \"subs_pad_id\": 1001,\n",
       "  \"tag_pad_id\": 216,\n",
       "  \"transformers_version\": \"4.24.0\",\n",
       "  \"type_vocab_size\": 2,\n",
       "  \"use_cache\": true,\n",
       "  \"vocab_size\": 30522,\n",
       "  \"xpath_unit_hidden_size\": 32\n",
       "}"
      ]
     },
     "execution_count": 52,
     "metadata": {},
     "output_type": "execute_result"
    }
   ],
   "source": [
    "configuration"
   ]
  },
  {
   "cell_type": "code",
   "execution_count": 51,
   "metadata": {},
   "outputs": [
    {
     "data": {
      "text/plain": [
       "MarkupLMModel(\n",
       "  (embeddings): MarkupLMEmbeddings(\n",
       "    (word_embeddings): Embedding(30522, 768, padding_idx=0)\n",
       "    (position_embeddings): Embedding(512, 768, padding_idx=0)\n",
       "    (xpath_embeddings): XPathEmbeddings(\n",
       "      (xpath_unitseq2_embeddings): Linear(in_features=1600, out_features=768, bias=True)\n",
       "      (dropout): Dropout(p=0.1, inplace=False)\n",
       "      (activation): ReLU()\n",
       "      (xpath_unitseq2_inner): Linear(in_features=1600, out_features=3072, bias=True)\n",
       "      (inner2emb): Linear(in_features=3072, out_features=768, bias=True)\n",
       "      (xpath_tag_sub_embeddings): ModuleList(\n",
       "        (0-49): 50 x Embedding(256, 32)\n",
       "      )\n",
       "      (xpath_subs_sub_embeddings): ModuleList(\n",
       "        (0-49): 50 x Embedding(1024, 32)\n",
       "      )\n",
       "    )\n",
       "    (token_type_embeddings): Embedding(2, 768)\n",
       "    (LayerNorm): LayerNorm((768,), eps=1e-12, elementwise_affine=True)\n",
       "    (dropout): Dropout(p=0.1, inplace=False)\n",
       "  )\n",
       "  (encoder): MarkupLMEncoder(\n",
       "    (layer): ModuleList(\n",
       "      (0-11): 12 x MarkupLMLayer(\n",
       "        (attention): MarkupLMAttention(\n",
       "          (self): MarkupLMSelfAttention(\n",
       "            (query): Linear(in_features=768, out_features=768, bias=True)\n",
       "            (key): Linear(in_features=768, out_features=768, bias=True)\n",
       "            (value): Linear(in_features=768, out_features=768, bias=True)\n",
       "            (dropout): Dropout(p=0.1, inplace=False)\n",
       "          )\n",
       "          (output): MarkupLMSelfOutput(\n",
       "            (dense): Linear(in_features=768, out_features=768, bias=True)\n",
       "            (LayerNorm): LayerNorm((768,), eps=1e-12, elementwise_affine=True)\n",
       "            (dropout): Dropout(p=0.1, inplace=False)\n",
       "          )\n",
       "        )\n",
       "        (intermediate): MarkupLMIntermediate(\n",
       "          (dense): Linear(in_features=768, out_features=3072, bias=True)\n",
       "          (intermediate_act_fn): GELUActivation()\n",
       "        )\n",
       "        (output): MarkupLMOutput(\n",
       "          (dense): Linear(in_features=3072, out_features=768, bias=True)\n",
       "          (LayerNorm): LayerNorm((768,), eps=1e-12, elementwise_affine=True)\n",
       "          (dropout): Dropout(p=0.1, inplace=False)\n",
       "        )\n",
       "      )\n",
       "    )\n",
       "  )\n",
       "  (pooler): MarkupLMPooler(\n",
       "    (dense): Linear(in_features=768, out_features=768, bias=True)\n",
       "    (activation): Tanh()\n",
       "  )\n",
       ")"
      ]
     },
     "execution_count": 51,
     "metadata": {},
     "output_type": "execute_result"
    }
   ],
   "source": [
    "model"
   ]
  },
  {
   "cell_type": "code",
   "execution_count": 66,
   "metadata": {},
   "outputs": [
    {
     "name": "stderr",
     "output_type": "stream",
     "text": [
      "Downloading (…)lve/main/config.json: 100%|██████████| 810/810 [00:00<00:00, 104kB/s]\n",
      "Downloading pytorch_model.bin: 100%|██████████| 277M/277M [00:20<00:00, 13.8MB/s] \n",
      "Some weights of the model checkpoint at microsoft/markuplm-base were not used when initializing MarkupLMModel: ['cls.predictions.bias', 'cls.predictions.transform.LayerNorm.bias', 'cls.predictions.transform.dense.bias', 'nrp_cls.dense.bias', 'ptc_cls.bias', 'cls.predictions.transform.dense.weight', 'nrp_cls.LayerNorm.bias', 'ptc_cls.weight', 'cls.predictions.decoder.bias', 'nrp_cls.decoder.bias', 'cls.predictions.transform.LayerNorm.weight', 'cls.predictions.decoder.weight', 'nrp_cls.dense.weight', 'nrp_cls.decoder.weight', 'nrp_cls.LayerNorm.weight']\n",
      "- This IS expected if you are initializing MarkupLMModel from the checkpoint of a model trained on another task or with another architecture (e.g. initializing a BertForSequenceClassification model from a BertForPreTraining model).\n",
      "- This IS NOT expected if you are initializing MarkupLMModel from the checkpoint of a model that you expect to be exactly identical (initializing a BertForSequenceClassification model from a BertForSequenceClassification model).\n"
     ]
    },
    {
     "data": {
      "text/plain": [
       "BaseModelOutputWithPoolingAndCrossAttentions(last_hidden_state=tensor([[[-0.0691,  0.0568,  0.5247,  ..., -0.0421,  0.1532,  0.5823],\n",
       "         [-0.3715, -0.1436,  0.5005,  ..., -0.7094,  0.5908,  0.8812],\n",
       "         [ 0.0513, -0.4670,  0.1915,  ...,  0.6557,  0.2499,  0.7537],\n",
       "         [-0.4292, -0.0060,  0.1642,  ..., -0.0242, -0.4538,  0.3002]]],\n",
       "       grad_fn=<NativeLayerNormBackward0>), pooler_output=tensor([[ 8.0469e-01, -1.9732e-01, -9.0661e-01,  5.9489e-02,  9.2041e-01,\n",
       "         -9.9707e-02, -6.4377e-02,  2.1215e-03,  4.8670e-01, -1.9845e-01,\n",
       "          5.9599e-02,  1.3155e-01, -3.6861e-02, -9.7172e-01, -9.8506e-01,\n",
       "          9.2989e-01, -4.0714e-01, -9.5633e-01, -4.6189e-01, -4.9544e-01,\n",
       "         -1.2060e-01,  1.1836e-01, -1.7348e-01,  2.7105e-01,  2.9364e-01,\n",
       "         -4.5277e-02, -1.1718e-01, -8.0328e-02,  1.0154e-01,  1.0720e-01,\n",
       "         -1.1623e-01, -8.0564e-02,  1.8447e-01,  9.8975e-01, -2.9377e-02,\n",
       "          3.3360e-01,  1.1292e-01,  1.0241e-01, -7.8454e-02,  5.3558e-03,\n",
       "          3.7794e-02, -6.5516e-02,  5.5793e-02, -9.9336e-01,  7.9121e-01,\n",
       "         -4.7663e-01, -1.3200e-01, -6.2879e-02,  2.0586e-01, -1.7109e-01,\n",
       "         -9.5991e-01,  9.8731e-01,  9.4946e-01, -1.1221e-01, -1.2819e-01,\n",
       "         -1.4091e-01, -4.0250e-02,  1.1554e-01, -1.3250e-02, -7.2309e-02,\n",
       "         -9.8541e-01, -5.3793e-02,  4.1205e-02,  1.0639e-01,  4.4652e-03,\n",
       "         -7.5735e-01, -7.2250e-01, -8.0039e-02, -9.8752e-01,  5.8322e-02,\n",
       "         -1.2674e-01,  9.8417e-01, -1.1899e-01, -8.9374e-01, -1.0397e-01,\n",
       "          1.1061e-01,  2.6559e-01, -2.8498e-02,  1.3015e-01,  9.9243e-01,\n",
       "         -9.0774e-01,  9.8385e-01,  1.0290e-01,  9.9345e-01,  1.8394e-01,\n",
       "         -7.1783e-02,  3.4489e-02, -1.2813e-02, -2.0565e-01,  3.1401e-01,\n",
       "          6.3100e-01,  1.0556e-01, -5.8119e-02, -9.5318e-01, -1.9898e-01,\n",
       "          1.8349e-01, -4.5934e-01, -1.8170e-01,  8.4409e-01,  3.9004e-01,\n",
       "          4.3835e-02, -1.0872e-01, -1.0116e-01,  8.0485e-01, -1.4718e-01,\n",
       "          3.5338e-01, -9.8983e-01,  9.3630e-01,  6.9217e-01, -5.0500e-02,\n",
       "          1.3256e-01,  4.4684e-02, -1.2755e-01,  4.8484e-01, -1.2489e-01,\n",
       "          3.2237e-02,  9.8733e-01,  2.2398e-02,  9.8715e-01, -9.8810e-01,\n",
       "          3.4108e-01, -5.6100e-02,  7.7866e-01,  6.5950e-02,  3.8130e-02,\n",
       "         -3.4902e-01,  9.8810e-01, -3.7576e-02,  1.5133e-01,  2.8780e-02,\n",
       "          8.7573e-01, -2.3027e-01,  5.4792e-02,  9.2641e-03,  9.8898e-01,\n",
       "         -6.7673e-02,  1.5598e-01, -9.8360e-01,  1.4086e-01, -7.9132e-02,\n",
       "         -3.5658e-01, -3.2348e-01, -2.8915e-01,  1.5311e-02, -2.8460e-01,\n",
       "          1.8732e-01, -5.4316e-02,  7.4533e-01,  6.8095e-02,  9.8047e-01,\n",
       "          1.0626e-01,  2.4384e-01,  2.4742e-01,  5.2093e-01, -9.3852e-01,\n",
       "         -2.4073e-01, -3.9663e-02, -8.3269e-01,  3.3534e-02, -1.7442e-02,\n",
       "          6.1585e-02, -1.1827e-01, -4.1804e-02, -2.6646e-01, -1.5297e-01,\n",
       "          1.3058e-02,  3.3609e-02,  9.5803e-01,  8.8589e-02, -7.7693e-01,\n",
       "         -9.8825e-01, -2.0596e-01, -1.7063e-01, -1.1811e-01,  1.5764e-01,\n",
       "          7.5175e-02,  8.5606e-01,  1.1861e-02,  7.0672e-02, -7.0733e-02,\n",
       "          9.1331e-02, -9.1286e-01,  4.9235e-01, -3.9217e-03,  9.7591e-01,\n",
       "          4.5165e-02, -9.8864e-01,  1.4001e-01,  3.7178e-02,  3.9178e-02,\n",
       "         -1.6914e-01, -8.0730e-02, -4.5968e-02, -7.1863e-01,  2.7134e-01,\n",
       "          1.3012e-01,  7.3708e-02,  2.6374e-02, -9.9290e-01,  2.2465e-03,\n",
       "         -7.5842e-01,  1.2232e-02, -1.3625e-03, -1.8381e-02, -9.1069e-02,\n",
       "         -9.7930e-01, -3.1647e-03, -5.3089e-02,  7.9524e-01,  1.0060e-02,\n",
       "         -7.6106e-01, -1.7299e-01, -3.7612e-01, -8.7780e-02, -7.4214e-02,\n",
       "          8.4826e-02,  1.4838e-01, -6.8069e-01, -1.4881e-02,  9.3519e-02,\n",
       "          1.9467e-01, -1.6273e-01, -5.0692e-02,  9.7537e-02,  9.4765e-01,\n",
       "          8.0241e-02, -9.6735e-01, -2.9956e-01,  1.1973e-01,  9.3718e-01,\n",
       "         -3.9833e-01, -8.9272e-01,  2.1543e-01, -1.5482e-01, -9.8595e-01,\n",
       "         -3.2187e-02,  1.0090e-01, -7.6914e-01,  9.0733e-03,  5.8173e-02,\n",
       "          9.8980e-01, -1.5140e-01, -9.8981e-01, -9.4336e-02,  9.0141e-01,\n",
       "          2.1207e-02, -8.5808e-02,  1.4492e-01,  1.0551e-01, -2.0810e-01,\n",
       "         -1.4753e-01, -9.7246e-01, -2.0148e-01, -2.7387e-01, -7.4327e-01,\n",
       "          7.3647e-01, -9.4165e-01,  5.0921e-02, -9.7483e-02,  7.8851e-01,\n",
       "          2.1669e-01, -9.4773e-01,  5.9730e-02,  7.6326e-02, -1.7963e-01,\n",
       "          9.2420e-01, -1.6383e-02,  9.9062e-01,  9.6034e-01,  9.8309e-01,\n",
       "         -6.1936e-02,  9.7610e-01,  4.0012e-02,  2.6936e-02, -1.9193e-01,\n",
       "          1.9640e-01,  2.9051e-01, -9.8765e-01,  7.5068e-02, -2.3961e-01,\n",
       "         -1.0453e-01, -1.1348e-01, -1.1776e-01,  1.8802e-02,  9.1685e-01,\n",
       "         -3.7536e-01,  1.3340e-02,  9.8902e-01,  6.5605e-02,  1.1537e-01,\n",
       "         -9.3438e-02, -8.6938e-01, -1.7932e-02,  4.2155e-01,  4.6995e-01,\n",
       "          2.3529e-01, -4.0641e-01, -1.8216e-01, -8.7643e-01,  8.2767e-01,\n",
       "          7.4343e-02,  9.5987e-01, -3.5834e-01,  3.4503e-01,  9.1699e-01,\n",
       "         -9.3785e-01, -9.9685e-02,  1.2474e-01,  6.0270e-02, -1.1093e-01,\n",
       "          4.5698e-01, -6.6918e-02, -6.8860e-03, -1.8500e-01,  6.1713e-01,\n",
       "         -7.9996e-01,  7.4266e-02, -6.6710e-03,  9.8552e-01,  1.9336e-01,\n",
       "         -8.8925e-01,  4.0714e-03, -3.7525e-02,  5.7278e-01,  1.6163e-01,\n",
       "          9.7629e-01, -6.0961e-02,  9.5970e-01, -2.5829e-01, -5.1320e-01,\n",
       "         -6.0020e-02,  1.0458e-01, -6.6801e-01, -6.2640e-02, -9.7966e-01,\n",
       "         -8.8677e-02, -7.0118e-02,  6.0582e-02,  9.3813e-01,  1.9586e-01,\n",
       "          2.2618e-01, -2.7935e-02, -1.0785e-01,  2.5858e-02, -2.0362e-01,\n",
       "          3.3127e-01, -1.9547e-01,  6.1884e-02, -3.3814e-02, -5.8926e-01,\n",
       "          9.8788e-01, -7.9765e-02, -6.9799e-02, -3.3994e-01,  5.0372e-02,\n",
       "         -4.4857e-02, -9.9049e-01, -2.4782e-02, -7.1353e-01, -9.9170e-01,\n",
       "         -6.7032e-02, -9.3961e-01, -1.0611e-01,  8.2899e-01,  3.7281e-02,\n",
       "          9.7975e-01,  1.5139e-01,  1.0557e-01,  5.2227e-02,  9.1153e-01,\n",
       "         -6.9575e-02,  9.6117e-03,  2.3205e-01, -1.1822e-01, -9.8864e-01,\n",
       "         -6.5772e-02,  9.4104e-01,  9.9133e-01, -9.4739e-01,  2.2841e-01,\n",
       "         -3.1188e-01,  2.4735e-01,  6.9017e-02,  1.0728e-01,  3.8367e-02,\n",
       "          3.0789e-01, -6.2427e-01,  1.3982e-02,  1.9039e-01,  9.9388e-01,\n",
       "         -3.9351e-01, -1.4175e-02,  6.5713e-02, -3.5946e-01, -6.0919e-01,\n",
       "          9.9063e-01, -3.1143e-02,  1.1826e-01,  9.9230e-01, -7.6027e-02,\n",
       "          9.8460e-01,  3.7606e-02, -1.7135e-01,  9.8038e-01,  7.4229e-01,\n",
       "          8.0180e-02,  4.2598e-02, -9.2914e-01,  9.9267e-01,  1.4463e-01,\n",
       "         -9.7998e-02, -4.1931e-02,  3.7317e-01,  1.5453e-01,  9.3202e-02,\n",
       "         -9.8750e-01,  6.4021e-02,  7.3972e-02, -9.2926e-01, -3.7384e-01,\n",
       "         -2.1382e-01, -2.0705e-01, -8.7829e-02,  9.8968e-01, -5.0768e-02,\n",
       "         -6.0466e-02,  9.2472e-01, -8.3123e-01, -6.8046e-02, -9.3450e-02,\n",
       "          1.9704e-01,  1.4411e-02, -7.0812e-02, -6.5170e-01, -6.5801e-04,\n",
       "          9.9146e-02,  1.1724e-01,  2.8196e-01,  9.5873e-02, -4.7363e-02,\n",
       "         -1.2733e-01, -3.5396e-01,  1.7819e-01, -8.3992e-02, -4.7339e-01,\n",
       "          4.9259e-01, -9.8837e-01, -1.6406e-01, -3.7914e-01,  9.9008e-01,\n",
       "          1.9582e-01, -1.0310e-01, -1.1272e-01, -9.8842e-01,  5.5517e-02,\n",
       "         -4.8224e-02,  7.0335e-01,  7.4474e-02, -5.0313e-02,  9.2458e-01,\n",
       "         -3.6312e-02,  5.1219e-01,  6.4874e-02, -3.7528e-01, -9.9260e-01,\n",
       "          9.9074e-01,  9.7192e-01, -9.7365e-01,  6.0444e-02,  9.9245e-01,\n",
       "         -5.1116e-02, -1.4855e-01,  6.9434e-01,  9.9160e-01,  1.6249e-01,\n",
       "          9.0764e-01,  3.7537e-02,  5.3910e-01, -7.2409e-02, -3.8942e-02,\n",
       "         -9.9903e-02,  4.1486e-02, -8.8481e-01,  1.5715e-01, -8.0367e-02,\n",
       "          8.0959e-02,  4.0370e-01,  1.1015e-01, -5.9726e-02, -9.9201e-01,\n",
       "         -4.0320e-01, -1.0256e-01, -3.3672e-02, -9.9012e-01,  2.0214e-02,\n",
       "          9.1522e-01, -9.9191e-01, -9.0393e-02, -5.8142e-01,  8.8109e-01,\n",
       "         -3.3577e-02,  1.4317e-01, -9.4114e-02, -6.9681e-01, -9.9054e-01,\n",
       "          8.0253e-02,  4.1295e-02,  8.2682e-01, -1.1602e-01,  2.4875e-01,\n",
       "         -3.9549e-02,  2.4378e-02, -8.2999e-02,  9.8886e-01, -6.5475e-02,\n",
       "         -1.1163e-01,  2.3888e-02,  1.1272e-01,  1.1936e-01,  2.8000e-01,\n",
       "         -9.2785e-01, -5.5859e-02,  8.9610e-01,  4.9768e-02, -9.1835e-01,\n",
       "          3.6016e-01, -1.2426e-01, -3.6800e-02, -2.3671e-01, -9.3113e-01,\n",
       "         -4.8523e-01,  1.7893e-02,  1.7307e-01,  7.4091e-02, -1.0168e-01,\n",
       "         -1.1049e-01, -1.2559e-01, -1.2582e-01,  8.7659e-01, -9.9125e-01,\n",
       "         -9.9438e-01,  6.0240e-03,  8.4032e-02,  9.3824e-01, -1.4148e-01,\n",
       "          3.0796e-01,  1.3182e-01,  9.5708e-01,  2.6891e-02, -1.0622e-01,\n",
       "          9.9139e-01,  9.8861e-01, -9.9169e-01,  7.1815e-02, -1.6482e-01,\n",
       "         -7.2244e-01, -3.2594e-01, -9.9241e-01, -2.8818e-01,  1.5460e-02,\n",
       "          9.7359e-02, -1.1770e-01,  8.8178e-02, -9.4400e-03,  9.1768e-01,\n",
       "          1.8870e-01,  9.5475e-01,  7.0186e-02,  4.8879e-02, -1.7197e-02,\n",
       "         -9.3797e-01, -1.9588e-01,  7.7698e-02, -6.2028e-02,  9.5032e-01,\n",
       "         -4.6947e-02, -8.4223e-01,  1.2486e-01,  9.9167e-01,  4.8121e-01,\n",
       "         -9.9046e-01, -1.4005e-01,  9.8105e-01,  3.7873e-01, -2.0140e-01,\n",
       "          1.1916e-01,  3.1149e-02,  3.5742e-02, -1.3269e-01,  2.3661e-01,\n",
       "         -3.0991e-02,  1.5045e-02, -9.9029e-01, -2.5681e-02, -9.1886e-01,\n",
       "          9.0042e-02,  5.8303e-01, -9.4819e-02, -9.7286e-01, -1.8884e-01,\n",
       "         -1.1241e-01, -4.5780e-01, -1.3014e-01, -9.8975e-01, -6.2487e-01,\n",
       "          9.8008e-01, -5.8423e-02,  8.1513e-01,  2.9592e-01,  4.9384e-02,\n",
       "          5.9223e-02, -3.6343e-02,  9.2618e-01,  5.7885e-01,  1.0834e-01,\n",
       "          2.1613e-02, -7.7910e-01, -9.1265e-01, -8.6700e-01, -3.0115e-02,\n",
       "         -2.2052e-02, -7.6592e-02, -3.8085e-02,  1.1364e-01, -4.9341e-01,\n",
       "          3.6832e-01, -3.7443e-02, -5.5108e-02,  1.2817e-01, -1.6120e-01,\n",
       "         -9.9334e-01, -3.9069e-02,  4.7617e-02,  5.7749e-02, -1.7085e-01,\n",
       "          2.0979e-02, -8.2574e-02, -9.8141e-01, -8.1774e-03,  4.1371e-02,\n",
       "          9.9354e-01,  2.0835e-02, -2.0159e-02,  8.6544e-02,  9.2347e-01,\n",
       "         -2.6210e-02, -1.6623e-01, -5.4540e-01,  7.5546e-02,  3.8363e-02,\n",
       "         -4.3120e-02,  4.0107e-02, -1.1771e-01,  8.4346e-01,  2.8666e-01,\n",
       "         -7.8210e-02, -9.8883e-01,  9.8987e-01,  1.1799e-02,  1.0992e-01,\n",
       "          3.3781e-01, -1.2557e-02,  1.2193e-01, -7.6520e-02, -6.1445e-01,\n",
       "          1.1333e-01,  3.0769e-02, -9.1336e-01, -1.8764e-01,  8.0516e-01,\n",
       "          1.5775e-01,  4.5123e-02, -9.8405e-01, -8.4764e-01, -8.9904e-01,\n",
       "          5.9897e-02,  9.8939e-01,  2.0951e-01, -2.6296e-01, -8.5250e-01,\n",
       "          5.9281e-01, -3.4453e-01, -8.3833e-02, -1.5553e-01,  1.0073e-01,\n",
       "         -3.9395e-01,  6.1950e-01, -1.0135e-02,  4.6137e-02, -1.0490e-01,\n",
       "         -3.9148e-01, -1.9440e-02, -7.7227e-02,  2.8816e-01, -9.8517e-01,\n",
       "          8.6577e-01,  4.3716e-02,  7.9405e-01,  6.8851e-03, -6.7907e-02,\n",
       "         -9.8571e-01,  1.6354e-01,  9.4447e-01,  4.8598e-01, -9.8270e-01,\n",
       "         -9.3886e-01,  1.2845e-02, -8.7885e-01, -9.7632e-02, -9.9106e-02,\n",
       "         -9.4503e-01,  1.6300e-01, -1.5351e-01,  9.9182e-01,  1.7385e-01,\n",
       "         -5.2254e-02, -3.2234e-02,  7.4636e-01,  1.0814e-01,  7.1785e-03,\n",
       "         -3.5357e-01,  8.6118e-01,  1.2291e-01,  1.4280e-01, -1.1059e-01,\n",
       "          5.9211e-02,  7.7842e-02, -1.4151e-01, -1.0329e-01,  4.0924e-01,\n",
       "          8.4370e-02,  7.5798e-02, -8.6661e-02, -1.1465e-02,  9.8820e-01,\n",
       "          1.0306e-01,  2.0748e-02, -3.4115e-01,  8.9729e-01, -7.0232e-03,\n",
       "         -9.8855e-01, -1.1429e-01, -1.2628e-01,  5.1374e-02,  3.0193e-01,\n",
       "         -4.5330e-02,  1.2525e-01, -9.8955e-01,  1.2186e-01, -1.4620e-01,\n",
       "          6.8287e-01,  9.9093e-01, -2.1402e-03,  1.1674e-01,  9.9221e-01,\n",
       "         -8.8367e-02, -8.2896e-02, -1.0853e-01,  1.4800e-01, -5.5685e-02,\n",
       "         -9.8993e-01,  9.2393e-01,  9.6797e-01,  1.6415e-01, -4.1798e-01,\n",
       "         -9.8942e-01, -4.8765e-02, -7.9083e-02]], grad_fn=<TanhBackward0>), hidden_states=None, past_key_values=None, attentions=None, cross_attentions=None)"
      ]
     },
     "execution_count": 66,
     "metadata": {},
     "output_type": "execute_result"
    }
   ],
   "source": [
    "from transformers import AutoProcessor, MarkupLMModel\n",
    "\n",
    "processor = AutoProcessor.from_pretrained(\"microsoft/markuplm-base\")\n",
    "model = MarkupLMModel.from_pretrained(\"microsoft/markuplm-base\")\n",
    "\n",
    "html_string = \"<html> <head> <title>Page Title</title> </head> </html>\"\n",
    "\n",
    "encoding = processor(html_string, return_tensors=\"pt\")\n",
    "\n",
    "outputs = model(**encoding)\n",
    "outputs"
   ]
  },
  {
   "attachments": {},
   "cell_type": "markdown",
   "metadata": {},
   "source": [
    "### Question Answering Model"
   ]
  },
  {
   "cell_type": "code",
   "execution_count": 5,
   "metadata": {},
   "outputs": [],
   "source": [
    "from transformers import AutoProcessor, MarkupLMForQuestionAnswering\n",
    "import torch\n",
    "\n",
    "processor = AutoProcessor.from_pretrained(\"microsoft/markuplm-base-finetuned-websrc\")\n",
    "model = MarkupLMForQuestionAnswering.from_pretrained(\"microsoft/markuplm-base-finetuned-websrc\")\n",
    "\n",
    "html_string = \"<html> <head> <title>My name is Niels</title> </head> <body> I study in Pakistan</body> </html>\"\n",
    "question = \"What is the name of website?\"\n",
    "\n",
    "encoding = processor(single_html_string, questions=question, return_tensors=\"pt\", truncation=True)"
   ]
  },
  {
   "cell_type": "code",
   "execution_count": 6,
   "metadata": {},
   "outputs": [
    {
     "data": {
      "text/plain": [
       "dict_keys(['input_ids', 'token_type_ids', 'attention_mask', 'xpath_tags_seq', 'xpath_subs_seq'])"
      ]
     },
     "execution_count": 6,
     "metadata": {},
     "output_type": "execute_result"
    }
   ],
   "source": [
    "encoding.keys()"
   ]
  },
  {
   "cell_type": "code",
   "execution_count": 8,
   "metadata": {},
   "outputs": [
    {
     "data": {
      "text/plain": [
       "512"
      ]
     },
     "execution_count": 8,
     "metadata": {},
     "output_type": "execute_result"
    }
   ],
   "source": [
    "len(encoding['input_ids'][0])"
   ]
  },
  {
   "cell_type": "code",
   "execution_count": 102,
   "metadata": {},
   "outputs": [],
   "source": [
    "with torch.no_grad():\n",
    "    outputs = model(**encoding)"
   ]
  },
  {
   "cell_type": "code",
   "execution_count": 103,
   "metadata": {},
   "outputs": [
    {
     "data": {
      "text/plain": [
       "'<s>'"
      ]
     },
     "execution_count": 103,
     "metadata": {},
     "output_type": "execute_result"
    }
   ],
   "source": [
    "answer_start_index = outputs.start_logits.argmax()\n",
    "answer_end_index = outputs.end_logits.argmax()\n",
    "\n",
    "predict_answer_tokens = encoding.input_ids[0, answer_start_index : answer_end_index + 1]\n",
    "processor.decode(predict_answer_tokens).strip()"
   ]
  },
  {
   "cell_type": "code",
   "execution_count": 104,
   "metadata": {},
   "outputs": [
    {
     "data": {
      "text/plain": [
       "dict_keys(['input_ids', 'token_type_ids', 'attention_mask', 'xpath_tags_seq', 'xpath_subs_seq'])"
      ]
     },
     "execution_count": 104,
     "metadata": {},
     "output_type": "execute_result"
    }
   ],
   "source": [
    "encoding.keys()"
   ]
  },
  {
   "cell_type": "code",
   "execution_count": 107,
   "metadata": {},
   "outputs": [
    {
     "data": {
      "text/plain": [
       "56"
      ]
     },
     "execution_count": 107,
     "metadata": {},
     "output_type": "execute_result"
    }
   ],
   "source": [
    "len(encoding['input_ids'][0])"
   ]
  },
  {
   "cell_type": "markdown",
   "metadata": {},
   "source": [
    "### Create markupLM dataset from raw html\n",
    "##### Processing of original html file to remove nodes with greater than 20 words\n",
    "##### Content file also created"
   ]
  },
  {
   "cell_type": "code",
   "execution_count": 288,
   "metadata": {},
   "outputs": [],
   "source": [
    "from transformers import MarkupLMFeatureExtractor\n",
    "import os\n",
    "from bs4 import BeautifulSoup, NavigableString"
   ]
  },
  {
   "cell_type": "code",
   "execution_count": 289,
   "metadata": {},
   "outputs": [],
   "source": [
    "def remove_long_text_nodes(html):\n",
    "    soup = BeautifulSoup(html, 'html.parser')\n",
    "\n",
    "    for node in soup.find_all():\n",
    "        if node.string is not None:\n",
    "            word_count = len(node.string.split())\n",
    "            if word_count > 20:\n",
    "                node.string.replace_with('')\n",
    "\n",
    "    return str(soup.prettify())"
   ]
  },
  {
   "cell_type": "code",
   "execution_count": 295,
   "metadata": {},
   "outputs": [],
   "source": [
    "# goes to the folder and reads html file then writes the content of html in \"content.txt\" file\n",
    "folder = \"../datasets/datasetV3/39\"\n",
    "\n",
    "files = os.listdir(folder)\n",
    "# find the HTML file\n",
    "html_file = next((f for f in files if f.endswith('.html')), None)\n",
    "html_file_path = os.path.join(folder, html_file)\n",
    "with open(html_file_path, \"r\") as f:\n",
    "    single_html_string = f.read()\n",
    "\n",
    "# shortern the html\n",
    "single_html_string = remove_long_text_nodes(single_html_string)\n",
    "\n",
    "with open(os.path.join(folder, \"DOM.txt\"), \"w\") as f:\n",
    "    f.write(single_html_string)\n",
    "feature_extractor = MarkupLMFeatureExtractor()\n",
    "# single example\n",
    "encoding = feature_extractor(str(single_html_string))\n",
    "with open(f\"{folder}/content.txt\", \"w\") as f:\n",
    "    f.write(''.join(encoding['nodes'][0]))"
   ]
  },
  {
   "cell_type": "code",
   "execution_count": null,
   "metadata": {},
   "outputs": [],
   "source": [
    "encoding['xpaths'][0]"
   ]
  },
  {
   "cell_type": "code",
   "execution_count": null,
   "metadata": {},
   "outputs": [],
   "source": [
    "encoding['nodes'][0]"
   ]
  },
  {
   "cell_type": "markdown",
   "metadata": {},
   "source": [
    "### Huggingface dataset creation\n",
    "##### After all the folders are prepared run the below code to get in the form of huggingface Squad dataset"
   ]
  },
  {
   "cell_type": "code",
   "execution_count": 165,
   "metadata": {},
   "outputs": [],
   "source": [
    "import json\n",
    "from transformers import logging, AutoProcessor, MarkupLMForQuestionAnswering, MarkupLMProcessor, MarkupLMFeatureExtractor, MarkupLMTokenizer, MarkupLMTokenizerFast, TrainingArguments, Trainer,DefaultDataCollator \n",
    "import torch"
   ]
  },
  {
   "cell_type": "code",
   "execution_count": 299,
   "metadata": {},
   "outputs": [],
   "source": [
    "listings = []"
   ]
  },
  {
   "cell_type": "code",
   "execution_count": 300,
   "metadata": {},
   "outputs": [],
   "source": [
    "import os\n",
    "import pandas as pd\n",
    "\n",
    "# initialize an empty dataframe\n",
    "# df = pd.DataFrame(columns=['id', 'title', 'context', 'question', 'answers'])\n",
    "# listings = []\n",
    "dom_path = \"../datasets/datasetV3/40/DOM.txt\"\n",
    "\n",
    "try:\n",
    "    with open(dom_path, 'r') as f:\n",
    "        dom = f.read().strip()\n",
    "except:\n",
    "    with open(dom_path, 'r', encoding='ISO-8859-1') as f:\n",
    "        dom = f.read().strip()\n",
    "\n",
    "instructions_path = \"../datasets/datasetV3/40/instruction.txt\"\n",
    "range_path = \"../datasets/datasetV3/40/range.txt\"\n",
    "content_path = \"../datasets/datasetV3/40/content.txt\"\n",
    "\n",
    "try:\n",
    "    with open(content_path, 'r') as f:\n",
    "        content = f.read().strip()\n",
    "except:\n",
    "    with open(content_path, 'r', encoding='ISO-8859-1') as f:\n",
    "        content = f.read().strip()\n",
    "id = 0\n",
    "with open(instructions_path, 'r') as f1, open(range_path, 'r') as f2:\n",
    "    for instruction, response in zip(f1, f2):\n",
    "        # create the prompt\n",
    "        instruction = instruction.strip()\n",
    "        # get the response\n",
    "        answer_start, answer_end = response.split(',')\n",
    "        answer_start = answer_start.strip()\n",
    "        answer_end = answer_end.strip()\n",
    "        answerText = content[int(answer_start):int(answer_end)]\n",
    "\n",
    "        tempDict = {\"id\":id, \"title\":content[0:10], \"context\":dom, \"question\":instruction, \"answers\":{'text':[answerText], 'answer_start':[answer_start]}}\n",
    "        listings.append(tempDict)\n",
    "        id+=1\n",
    "        # append the new row to the dataframe\n",
    "        # df = pd.concat([df, pd.DataFrame([{'instruction': instruction, 'dom': dom, 'answer_start': answer_start, 'answer_end': answer_end}])], ignore_index=True)\n"
   ]
  },
  {
   "cell_type": "code",
   "execution_count": 301,
   "metadata": {},
   "outputs": [
    {
     "data": {
      "text/plain": [
       "4"
      ]
     },
     "execution_count": 301,
     "metadata": {},
     "output_type": "execute_result"
    }
   ],
   "source": [
    "len(listings)"
   ]
  },
  {
   "cell_type": "code",
   "execution_count": 302,
   "metadata": {},
   "outputs": [],
   "source": [
    "# You can write this to a JSON file like this:\n",
    "with open('data.json', 'w') as f:\n",
    "    json.dump(listings, f)"
   ]
  }
 ],
 "metadata": {
  "kernelspec": {
   "display_name": "seleniumScrap",
   "language": "python",
   "name": "python3"
  },
  "language_info": {
   "codemirror_mode": {
    "name": "ipython",
    "version": 3
   },
   "file_extension": ".py",
   "mimetype": "text/x-python",
   "name": "python",
   "nbconvert_exporter": "python",
   "pygments_lexer": "ipython3",
   "version": "3.9.16"
  },
  "orig_nbformat": 4
 },
 "nbformat": 4,
 "nbformat_minor": 2
}
