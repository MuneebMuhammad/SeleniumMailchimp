{
 "cells": [
  {
   "attachments": {},
   "cell_type": "markdown",
   "metadata": {},
   "source": [
    "# Fine tuning classification example\n",
    "\n",
    "We will fine-tune an ada classifier to distinguish between the two sports: Baseball and Hockey."
   ]
  },
  {
   "attachments": {},
   "cell_type": "markdown",
   "metadata": {},
   "source": [
    " ## Data exploration\n",
    " The newsgroup dataset can be loaded using sklearn. First we will look at the data itself:"
   ]
  },
  {
   "attachments": {},
   "cell_type": "markdown",
   "metadata": {},
   "source": [
    "One sample from the baseball category can be seen above. It is an email to a mailing list. We can observe that we have 1197 examples in total, which are evenly split between the two sports."
   ]
  },
  {
   "attachments": {},
   "cell_type": "markdown",
   "metadata": {},
   "source": [
    "## Data Preparation\n",
    "We transform the dataset into a pandas dataframe, with a column for prompt and completion. The prompt contains the email from the mailing list, and the completion is a name of the sport, either hockey or baseball. For demonstration purposes only and speed of fine-tuning we take only 300 examples. In a real use case the more examples the better the performance."
   ]
  },
  {
   "cell_type": "code",
   "execution_count": 51,
   "metadata": {},
   "outputs": [
    {
     "data": {
      "text/html": [
       "<div>\n",
       "<style scoped>\n",
       "    .dataframe tbody tr th:only-of-type {\n",
       "        vertical-align: middle;\n",
       "    }\n",
       "\n",
       "    .dataframe tbody tr th {\n",
       "        vertical-align: top;\n",
       "    }\n",
       "\n",
       "    .dataframe thead th {\n",
       "        text-align: right;\n",
       "    }\n",
       "</style>\n",
       "<table border=\"1\" class=\"dataframe\">\n",
       "  <thead>\n",
       "    <tr style=\"text-align: right;\">\n",
       "      <th></th>\n",
       "      <th>prompt</th>\n",
       "      <th>completion</th>\n",
       "    </tr>\n",
       "  </thead>\n",
       "  <tbody>\n",
       "    <tr>\n",
       "      <th>0</th>\n",
       "      <td>Open Text only email template[SEP]Title : Conv...</td>\n",
       "      <td>13</td>\n",
       "    </tr>\n",
       "    <tr>\n",
       "      <th>1</th>\n",
       "      <td>Edit Text only email template[SEP]Title : Conv...</td>\n",
       "      <td>13</td>\n",
       "    </tr>\n",
       "    <tr>\n",
       "      <th>2</th>\n",
       "      <td>I want to create a new email campaign[SEP]Titl...</td>\n",
       "      <td>11</td>\n",
       "    </tr>\n",
       "    <tr>\n",
       "      <th>3</th>\n",
       "      <td>Help me create a campaign[SEP]Title : Manage, ...</td>\n",
       "      <td>11</td>\n",
       "    </tr>\n",
       "    <tr>\n",
       "      <th>4</th>\n",
       "      <td>Can you guide me through the process of select...</td>\n",
       "      <td>14</td>\n",
       "    </tr>\n",
       "  </tbody>\n",
       "</table>\n",
       "</div>"
      ],
      "text/plain": [
       "                                              prompt completion\n",
       "0  Open Text only email template[SEP]Title : Conv...         13\n",
       "1  Edit Text only email template[SEP]Title : Conv...         13\n",
       "2  I want to create a new email campaign[SEP]Titl...         11\n",
       "3  Help me create a campaign[SEP]Title : Manage, ...         11\n",
       "4  Can you guide me through the process of select...         14"
      ]
     },
     "execution_count": 51,
     "metadata": {},
     "output_type": "execute_result"
    }
   ],
   "source": [
    "import os\n",
    "import pandas as pd\n",
    "\n",
    "# initialize an empty dataframe\n",
    "df = pd.DataFrame(columns=['prompt', 'completion'])\n",
    "\n",
    "# specify the root directory containing your folders\n",
    "root_dir = '../final_dataset1'\n",
    "\n",
    "# loop through each folder in the directory\n",
    "for folder in os.listdir(root_dir):\n",
    "    # construct the path to each file\n",
    "    instructions_path = os.path.join(root_dir, folder, 'instruction.txt')\n",
    "    responses_path = os.path.join(root_dir, folder, 'response.txt')\n",
    "    dom_path = os.path.join(root_dir, folder, 'DOM.txt')\n",
    "\n",
    "    # make sure all files exist\n",
    "    if os.path.exists(instructions_path) and os.path.exists(responses_path) and os.path.exists(dom_path):\n",
    "        # read the DOM file\n",
    "        try:\n",
    "            with open(dom_path, 'r') as f:\n",
    "                dom = f.read().strip()\n",
    "        except:\n",
    "            with open(dom_path, 'r', encoding='ISO-8859-1') as f:\n",
    "                dom = f.read().strip()\n",
    "        # read the instructions and responses files, line by line\n",
    "        with open(instructions_path, 'r') as f1, open(responses_path, 'r') as f2:\n",
    "            for instruction, response in zip(f1, f2):\n",
    "                # create the prompt\n",
    "                prompt = instruction.strip() + \"[SEP]\" + dom\n",
    "                # get the response\n",
    "                completion = response.strip()\n",
    "\n",
    "                # append the new row to the dataframe\n",
    "                df = pd.concat([df, pd.DataFrame([{'prompt': prompt, 'completion': completion}])], ignore_index=True)\n",
    "df.head()"
   ]
  },
  {
   "attachments": {},
   "cell_type": "markdown",
   "metadata": {},
   "source": [
    "Both baseball and hockey are single tokens. We save the dataset as a jsonl file."
   ]
  },
  {
   "cell_type": "code",
   "execution_count": 50,
   "metadata": {},
   "outputs": [
    {
     "name": "stdout",
     "output_type": "stream",
     "text": [
      "Renaming completed.\n"
     ]
    }
   ],
   "source": [
    "import os\n",
    "\n",
    "# specify the root directory containing your folders\n",
    "root_dir = '../final_dataset1'\n",
    "\n",
    "for dirpath, dirnames, filenames in os.walk(root_dir):\n",
    "    for filename in filenames:\n",
    "        if filename == \"instructions.txt\":\n",
    "            old_file_path = os.path.join(dirpath, filename)\n",
    "            new_file_path = os.path.join(dirpath, \"instruction.txt\")\n",
    "            os.rename(old_file_path, new_file_path)\n",
    "\n",
    "print(\"Renaming completed.\")\n"
   ]
  },
  {
   "cell_type": "code",
   "execution_count": 52,
   "metadata": {},
   "outputs": [],
   "source": [
    "df.to_json(\"final_dataset1.jsonl\", orient='records', lines=True)"
   ]
  },
  {
   "attachments": {},
   "cell_type": "markdown",
   "metadata": {},
   "source": [
    "### Data Preparation tool\n",
    "We can now use a data preparation tool which will suggest a few improvements to our dataset before fine-tuning. Before launching the tool we update the openai library to ensure we're using the latest data preparation tool. We additionally specify `-q` which auto-accepts all suggestions."
   ]
  },
  {
   "cell_type": "code",
   "execution_count": 27,
   "metadata": {},
   "outputs": [
    {
     "name": "stdout",
     "output_type": "stream",
     "text": [
      "Looking in indexes: https://pypi.org/simple, https://pypi.ngc.nvidia.com\n",
      "Requirement already satisfied: openai in /Users/muneebmuhammad/opt/anaconda3/envs/seleniumScrap/lib/python3.9/site-packages (0.27.8)\n",
      "Requirement already satisfied: requests>=2.20 in /Users/muneebmuhammad/opt/anaconda3/envs/seleniumScrap/lib/python3.9/site-packages (from openai) (2.31.0)\n",
      "Requirement already satisfied: tqdm in /Users/muneebmuhammad/opt/anaconda3/envs/seleniumScrap/lib/python3.9/site-packages (from openai) (4.65.0)\n",
      "Requirement already satisfied: aiohttp in /Users/muneebmuhammad/opt/anaconda3/envs/seleniumScrap/lib/python3.9/site-packages (from openai) (3.8.4)\n",
      "Requirement already satisfied: certifi>=2017.4.17 in /Users/muneebmuhammad/opt/anaconda3/envs/seleniumScrap/lib/python3.9/site-packages (from requests>=2.20->openai) (2023.5.7)\n",
      "Requirement already satisfied: charset-normalizer<4,>=2 in /Users/muneebmuhammad/opt/anaconda3/envs/seleniumScrap/lib/python3.9/site-packages (from requests>=2.20->openai) (3.1.0)\n",
      "Requirement already satisfied: idna<4,>=2.5 in /Users/muneebmuhammad/opt/anaconda3/envs/seleniumScrap/lib/python3.9/site-packages (from requests>=2.20->openai) (3.4)\n",
      "Requirement already satisfied: urllib3<3,>=1.21.1 in /Users/muneebmuhammad/opt/anaconda3/envs/seleniumScrap/lib/python3.9/site-packages (from requests>=2.20->openai) (1.26.16)\n",
      "Requirement already satisfied: frozenlist>=1.1.1 in /Users/muneebmuhammad/opt/anaconda3/envs/seleniumScrap/lib/python3.9/site-packages (from aiohttp->openai) (1.3.3)\n",
      "Requirement already satisfied: aiosignal>=1.1.2 in /Users/muneebmuhammad/opt/anaconda3/envs/seleniumScrap/lib/python3.9/site-packages (from aiohttp->openai) (1.3.1)\n",
      "Requirement already satisfied: yarl<2.0,>=1.0 in /Users/muneebmuhammad/opt/anaconda3/envs/seleniumScrap/lib/python3.9/site-packages (from aiohttp->openai) (1.9.2)\n",
      "Requirement already satisfied: async-timeout<5.0,>=4.0.0a3 in /Users/muneebmuhammad/opt/anaconda3/envs/seleniumScrap/lib/python3.9/site-packages (from aiohttp->openai) (4.0.2)\n",
      "Requirement already satisfied: attrs>=17.3.0 in /Users/muneebmuhammad/opt/anaconda3/envs/seleniumScrap/lib/python3.9/site-packages (from aiohttp->openai) (22.2.0)\n",
      "Requirement already satisfied: multidict<7.0,>=4.5 in /Users/muneebmuhammad/opt/anaconda3/envs/seleniumScrap/lib/python3.9/site-packages (from aiohttp->openai) (6.0.4)\n"
     ]
    }
   ],
   "source": [
    "!pip install --upgrade openai"
   ]
  },
  {
   "cell_type": "code",
   "execution_count": 53,
   "metadata": {},
   "outputs": [
    {
     "name": "stdout",
     "output_type": "stream",
     "text": [
      "Intel MKL WARNING: Support of Intel(R) Streaming SIMD Extensions 4.2 (Intel(R) SSE4.2) enabled only processors has been deprecated. Intel oneAPI Math Kernel Library 2025.0 will require Intel(R) Advanced Vector Extensions (Intel(R) AVX) instructions.\n",
      "Intel MKL WARNING: Support of Intel(R) Streaming SIMD Extensions 4.2 (Intel(R) SSE4.2) enabled only processors has been deprecated. Intel oneAPI Math Kernel Library 2025.0 will require Intel(R) Advanced Vector Extensions (Intel(R) AVX) instructions.\n",
      "Analyzing...\n",
      "\n",
      "- Your file contains 1198 prompt-completion pairs\n",
      "- Based on your data it seems like you're trying to fine-tune a model for classification\n",
      "- For classification, we recommend you try one of the faster and cheaper models, such as `ada`\n",
      "- For classification, you can estimate the expected model performance by keeping a held out dataset, which is not used for training\n",
      "- There are 7 duplicated prompt-completion sets. These are rows: [930, 949, 950, 955, 956, 957, 958]\n",
      "- Your data does not contain a common separator at the end of your prompts. Having a separator string appended to the end of the prompt makes it clearer to the fine-tuned model where the completion should begin. See https://platform.openai.com/docs/guides/fine-tuning/preparing-your-dataset for more detail and examples. If you intend to do open-ended generation, then you should leave the prompts empty\n",
      "- The completion should start with a whitespace character (` `). This tends to produce better results due to the tokenization we use. See https://platform.openai.com/docs/guides/fine-tuning/preparing-your-dataset for more details\n",
      "\n",
      "Based on the analysis we will perform the following actions:\n",
      "- [Recommended] Remove 7 duplicate rows [Y/n]: Y\n",
      "- [Recommended] Add a suffix separator `\\n\\n###\\n\\n` to all prompts [Y/n]: Y\n",
      "/Users/muneebmuhammad/opt/anaconda3/envs/seleniumScrap/lib/python3.9/site-packages/openai/validators.py:226: SettingWithCopyWarning: \n",
      "A value is trying to be set on a copy of a slice from a DataFrame.\n",
      "Try using .loc[row_indexer,col_indexer] = value instead\n",
      "\n",
      "See the caveats in the documentation: https://pandas.pydata.org/pandas-docs/stable/user_guide/indexing.html#returning-a-view-versus-a-copy\n",
      "  x[\"prompt\"] += suffix\n",
      "- [Recommended] Add a whitespace character to the beginning of the completion [Y/n]: Y\n",
      "/Users/muneebmuhammad/opt/anaconda3/envs/seleniumScrap/lib/python3.9/site-packages/openai/validators.py:425: SettingWithCopyWarning: \n",
      "A value is trying to be set on a copy of a slice from a DataFrame.\n",
      "Try using .loc[row_indexer,col_indexer] = value instead\n",
      "\n",
      "See the caveats in the documentation: https://pandas.pydata.org/pandas-docs/stable/user_guide/indexing.html#returning-a-view-versus-a-copy\n",
      "  x[\"completion\"] = x[\"completion\"].apply(\n",
      "- [Recommended] Would you like to split into training and validation set? [Y/n]: Y\n",
      "\n",
      "\n",
      "Your data will be written to a new JSONL file. Proceed [Y/n]: Y\n",
      "\n",
      "Wrote modified files to `final_dataset1_prepared_train.jsonl` and `final_dataset1_prepared_valid.jsonl`\n",
      "Feel free to take a look!\n",
      "\n",
      "Now use that file when fine-tuning:\n",
      "> openai api fine_tunes.create -t \"final_dataset1_prepared_train.jsonl\" -v \"final_dataset1_prepared_valid.jsonl\" --compute_classification_metrics --classification_n_classes 95\n",
      "\n",
      "After you’ve fine-tuned a model, remember that your prompt has to end with the indicator string `\\n\\n###\\n\\n` for the model to start generating completions, rather than continuing with the prompt.\n",
      "Once your model starts training, it'll approximately take 30.92 minutes to train a `curie` model, and less for `ada` and `babbage`. Queue will approximately take half an hour per job ahead of you.\n"
     ]
    }
   ],
   "source": [
    "!openai tools fine_tunes.prepare_data -f final_dataset1.jsonl -q"
   ]
  },
  {
   "attachments": {},
   "cell_type": "markdown",
   "metadata": {},
   "source": [
    "The tool helpfully suggests a few improvements to the dataset and splits the dataset into training and validation set.\n",
    "\n",
    "A suffix between a prompt and a completion is necessary to tell the model that the input text has stopped, and that it now needs to predict the class. Since we use the same separator in each example, the model is able to learn that it is meant to predict either baseball or hockey following the separator.\n",
    "A whitespace prefix in completions is useful, as most word tokens are tokenized with a space prefix.\n",
    "The tool also recognized that this is likely a classification task, so it suggested to split the dataset into training and validation datasets. This will allow us to easily measure expected performance on new data."
   ]
  },
  {
   "attachments": {},
   "cell_type": "markdown",
   "metadata": {},
   "source": [
    "## Fine-tuning\n",
    "The tool suggests we run the following command to train the dataset. Since this is a classification task, we would like to know what the generalization performance on the provided validation set is for our classification use case. The tool suggests to add `--compute_classification_metrics --classification_positive_class \" baseball\"` in order to compute the classification metrics.\n",
    "\n",
    "We can simply copy the suggested command from the CLI tool. We specifically add `-m ada` to fine-tune a cheaper and faster ada model, which is usually comperable in performance to slower and more expensive models on classification use cases. "
   ]
  },
  {
   "cell_type": "code",
   "execution_count": 7,
   "metadata": {},
   "outputs": [
    {
     "data": {
      "text/plain": [
       "True"
      ]
     },
     "execution_count": 7,
     "metadata": {},
     "output_type": "execute_result"
    }
   ],
   "source": [
    "from dotenv import load_dotenv\n",
    "import os\n",
    "load_dotenv()"
   ]
  },
  {
   "cell_type": "code",
   "execution_count": 1,
   "metadata": {},
   "outputs": [
    {
     "name": "stdout",
     "output_type": "stream",
     "text": [
      "Intel MKL WARNING: Support of Intel(R) Streaming SIMD Extensions 4.2 (Intel(R) SSE4.2) enabled only processors has been deprecated. Intel oneAPI Math Kernel Library 2025.0 will require Intel(R) Advanced Vector Extensions (Intel(R) AVX) instructions.\n",
      "Intel MKL WARNING: Support of Intel(R) Streaming SIMD Extensions 4.2 (Intel(R) SSE4.2) enabled only processors has been deprecated. Intel oneAPI Math Kernel Library 2025.0 will require Intel(R) Advanced Vector Extensions (Intel(R) AVX) instructions.\n"
     ]
    }
   ],
   "source": [
    "import openai"
   ]
  },
  {
   "cell_type": "code",
   "execution_count": 8,
   "metadata": {},
   "outputs": [],
   "source": [
    "openai.api_key = os.getenv('OPENAI_API_KEY')"
   ]
  },
  {
   "cell_type": "code",
   "execution_count": 8,
   "metadata": {},
   "outputs": [
    {
     "name": "stdout",
     "output_type": "stream",
     "text": [
      "Intel MKL WARNING: Support of Intel(R) Streaming SIMD Extensions 4.2 (Intel(R) SSE4.2) enabled only processors has been deprecated. Intel oneAPI Math Kernel Library 2025.0 will require Intel(R) Advanced Vector Extensions (Intel(R) AVX) instructions.\n",
      "Intel MKL WARNING: Support of Intel(R) Streaming SIMD Extensions 4.2 (Intel(R) SSE4.2) enabled only processors has been deprecated. Intel oneAPI Math Kernel Library 2025.0 will require Intel(R) Advanced Vector Extensions (Intel(R) AVX) instructions.\n",
      "\u001b[91mError:\u001b[0m No API key provided. You can set your API key in code using 'openai.api_key = <API-KEY>', or you can set the environment variable OPENAI_API_KEY=<API-KEY>). If your API key is stored in a file, you can point the openai module at it with 'openai.api_key_path = <PATH>'. You can generate API keys in the OpenAI web interface. See https://platform.openai.com/account/api-keys for details.\n"
     ]
    }
   ],
   "source": [
    "!openai api fine_tunes.create -t \"final_dataset1_prepared_train.jsonl\" -v \"final_dataset1_prepared_valid.jsonl\" -m ada"
   ]
  },
  {
   "attachments": {},
   "cell_type": "markdown",
   "metadata": {},
   "source": [
    "The model is successfully trained in about ten minutes. We can see the model name is `ada:ft-openai-2021-07-30-12-26-20`, which we can use for doing inference."
   ]
  },
  {
   "attachments": {},
   "cell_type": "markdown",
   "metadata": {},
   "source": [
    "### [Advanced] Results and expected model performance\n",
    "We can now download the results file to observe the expected performance on a held out validation set."
   ]
  },
  {
   "cell_type": "code",
   "execution_count": 32,
   "metadata": {},
   "outputs": [
    {
     "name": "stdout",
     "output_type": "stream",
     "text": [
      "\u001b[91mError:\u001b[0m No API key provided. You can set your API key in code using 'openai.api_key = <API-KEY>', or you can set the environment variable OPENAI_API_KEY=<API-KEY>). If your API key is stored in a file, you can point the openai module at it with 'openai.api_key_path = <PATH>'. You can generate API keys in the OpenAI web interface. See https://platform.openai.com/account/api-keys for details.\n"
     ]
    }
   ],
   "source": [
    "!openai api fine_tunes.results -i ft-2zaA7qi0rxJduWQpdvOvmGn3 > result.csv"
   ]
  },
  {
   "cell_type": "code",
   "execution_count": 33,
   "metadata": {},
   "outputs": [
    {
     "ename": "KeyError",
     "evalue": "'classification/accuracy'",
     "output_type": "error",
     "traceback": [
      "\u001b[0;31m---------------------------------------------------------------------------\u001b[0m",
      "\u001b[0;31mKeyError\u001b[0m                                  Traceback (most recent call last)",
      "File \u001b[0;32m~/opt/anaconda3/envs/seleniumScrap/lib/python3.9/site-packages/pandas/core/indexes/base.py:3652\u001b[0m, in \u001b[0;36mIndex.get_loc\u001b[0;34m(self, key)\u001b[0m\n\u001b[1;32m   3651\u001b[0m \u001b[39mtry\u001b[39;00m:\n\u001b[0;32m-> 3652\u001b[0m     \u001b[39mreturn\u001b[39;00m \u001b[39mself\u001b[39;49m\u001b[39m.\u001b[39;49m_engine\u001b[39m.\u001b[39;49mget_loc(casted_key)\n\u001b[1;32m   3653\u001b[0m \u001b[39mexcept\u001b[39;00m \u001b[39mKeyError\u001b[39;00m \u001b[39mas\u001b[39;00m err:\n",
      "File \u001b[0;32m~/opt/anaconda3/envs/seleniumScrap/lib/python3.9/site-packages/pandas/_libs/index.pyx:147\u001b[0m, in \u001b[0;36mpandas._libs.index.IndexEngine.get_loc\u001b[0;34m()\u001b[0m\n",
      "File \u001b[0;32m~/opt/anaconda3/envs/seleniumScrap/lib/python3.9/site-packages/pandas/_libs/index.pyx:176\u001b[0m, in \u001b[0;36mpandas._libs.index.IndexEngine.get_loc\u001b[0;34m()\u001b[0m\n",
      "File \u001b[0;32mpandas/_libs/hashtable_class_helper.pxi:7080\u001b[0m, in \u001b[0;36mpandas._libs.hashtable.PyObjectHashTable.get_item\u001b[0;34m()\u001b[0m\n",
      "File \u001b[0;32mpandas/_libs/hashtable_class_helper.pxi:7088\u001b[0m, in \u001b[0;36mpandas._libs.hashtable.PyObjectHashTable.get_item\u001b[0;34m()\u001b[0m\n",
      "\u001b[0;31mKeyError\u001b[0m: 'classification/accuracy'",
      "\nThe above exception was the direct cause of the following exception:\n",
      "\u001b[0;31mKeyError\u001b[0m                                  Traceback (most recent call last)",
      "Cell \u001b[0;32mIn[33], line 2\u001b[0m\n\u001b[1;32m      1\u001b[0m results \u001b[39m=\u001b[39m pd\u001b[39m.\u001b[39mread_csv(\u001b[39m'\u001b[39m\u001b[39mresult.csv\u001b[39m\u001b[39m'\u001b[39m)\n\u001b[0;32m----> 2\u001b[0m results[results[\u001b[39m'\u001b[39;49m\u001b[39mclassification/accuracy\u001b[39;49m\u001b[39m'\u001b[39;49m]\u001b[39m.\u001b[39mnotnull()]\u001b[39m.\u001b[39mtail(\u001b[39m1\u001b[39m)\n",
      "File \u001b[0;32m~/opt/anaconda3/envs/seleniumScrap/lib/python3.9/site-packages/pandas/core/frame.py:3761\u001b[0m, in \u001b[0;36mDataFrame.__getitem__\u001b[0;34m(self, key)\u001b[0m\n\u001b[1;32m   3759\u001b[0m \u001b[39mif\u001b[39;00m \u001b[39mself\u001b[39m\u001b[39m.\u001b[39mcolumns\u001b[39m.\u001b[39mnlevels \u001b[39m>\u001b[39m \u001b[39m1\u001b[39m:\n\u001b[1;32m   3760\u001b[0m     \u001b[39mreturn\u001b[39;00m \u001b[39mself\u001b[39m\u001b[39m.\u001b[39m_getitem_multilevel(key)\n\u001b[0;32m-> 3761\u001b[0m indexer \u001b[39m=\u001b[39m \u001b[39mself\u001b[39;49m\u001b[39m.\u001b[39;49mcolumns\u001b[39m.\u001b[39;49mget_loc(key)\n\u001b[1;32m   3762\u001b[0m \u001b[39mif\u001b[39;00m is_integer(indexer):\n\u001b[1;32m   3763\u001b[0m     indexer \u001b[39m=\u001b[39m [indexer]\n",
      "File \u001b[0;32m~/opt/anaconda3/envs/seleniumScrap/lib/python3.9/site-packages/pandas/core/indexes/base.py:3654\u001b[0m, in \u001b[0;36mIndex.get_loc\u001b[0;34m(self, key)\u001b[0m\n\u001b[1;32m   3652\u001b[0m     \u001b[39mreturn\u001b[39;00m \u001b[39mself\u001b[39m\u001b[39m.\u001b[39m_engine\u001b[39m.\u001b[39mget_loc(casted_key)\n\u001b[1;32m   3653\u001b[0m \u001b[39mexcept\u001b[39;00m \u001b[39mKeyError\u001b[39;00m \u001b[39mas\u001b[39;00m err:\n\u001b[0;32m-> 3654\u001b[0m     \u001b[39mraise\u001b[39;00m \u001b[39mKeyError\u001b[39;00m(key) \u001b[39mfrom\u001b[39;00m \u001b[39merr\u001b[39;00m\n\u001b[1;32m   3655\u001b[0m \u001b[39mexcept\u001b[39;00m \u001b[39mTypeError\u001b[39;00m:\n\u001b[1;32m   3656\u001b[0m     \u001b[39m# If we have a listlike key, _check_indexing_error will raise\u001b[39;00m\n\u001b[1;32m   3657\u001b[0m     \u001b[39m#  InvalidIndexError. Otherwise we fall through and re-raise\u001b[39;00m\n\u001b[1;32m   3658\u001b[0m     \u001b[39m#  the TypeError.\u001b[39;00m\n\u001b[1;32m   3659\u001b[0m     \u001b[39mself\u001b[39m\u001b[39m.\u001b[39m_check_indexing_error(key)\n",
      "\u001b[0;31mKeyError\u001b[0m: 'classification/accuracy'"
     ]
    }
   ],
   "source": [
    "results = pd.read_csv('result.csv')\n",
    "results[results['classification/accuracy'].notnull()].tail(1)"
   ]
  },
  {
   "attachments": {},
   "cell_type": "markdown",
   "metadata": {},
   "source": [
    "The accuracy reaches 99.6%. On the plot below we can see how accuracy on the validation set increases during the training run. "
   ]
  },
  {
   "cell_type": "code",
   "execution_count": null,
   "metadata": {},
   "outputs": [
    {
     "data": {
      "text/plain": [
       "<AxesSubplot:>"
      ]
     },
     "execution_count": 12,
     "metadata": {},
     "output_type": "execute_result"
    },
    {
     "data": {
      "image/png": "[encoded data removed]",
      "text/plain": [
       "<Figure size 432x288 with 1 Axes>"
      ]
     },
     "metadata": {
      "needs_background": "light"
     },
     "output_type": "display_data"
    }
   ],
   "source": [
    "results[results['classification/accuracy'].notnull()]['classification/accuracy'].plot()"
   ]
  },
  {
   "attachments": {},
   "cell_type": "markdown",
   "metadata": {},
   "source": [
    "## Using the model\n",
    "We can now call the model to get the predictions."
   ]
  },
  {
   "cell_type": "code",
   "execution_count": 9,
   "metadata": {},
   "outputs": [
    {
     "data": {
      "text/plain": [
       "True"
      ]
     },
     "execution_count": 9,
     "metadata": {},
     "output_type": "execute_result"
    }
   ],
   "source": [
    "import pandas as pd\n",
    "import openai\n",
    "from dotenv import load_dotenv\n",
    "import os\n",
    "load_dotenv()"
   ]
  },
  {
   "cell_type": "code",
   "execution_count": 3,
   "metadata": {},
   "outputs": [],
   "source": [
    "train = pd.read_json('final_dataset1_prepared_train.jsonl', lines=True)"
   ]
  },
  {
   "cell_type": "code",
   "execution_count": 4,
   "metadata": {},
   "outputs": [
    {
     "data": {
      "text/html": [
       "<div>\n",
       "<style scoped>\n",
       "    .dataframe tbody tr th:only-of-type {\n",
       "        vertical-align: middle;\n",
       "    }\n",
       "\n",
       "    .dataframe tbody tr th {\n",
       "        vertical-align: top;\n",
       "    }\n",
       "\n",
       "    .dataframe thead th {\n",
       "        text-align: right;\n",
       "    }\n",
       "</style>\n",
       "<table border=\"1\" class=\"dataframe\">\n",
       "  <thead>\n",
       "    <tr style=\"text-align: right;\">\n",
       "      <th></th>\n",
       "      <th>prompt</th>\n",
       "      <th>completion</th>\n",
       "    </tr>\n",
       "  </thead>\n",
       "  <tbody>\n",
       "    <tr>\n",
       "      <th>0</th>\n",
       "      <td>Edit Text only email template[SEP]Title : Conv...</td>\n",
       "      <td>13</td>\n",
       "    </tr>\n",
       "    <tr>\n",
       "      <th>1</th>\n",
       "      <td>I want to design my own email template[SEP]Tit...</td>\n",
       "      <td>23</td>\n",
       "    </tr>\n",
       "    <tr>\n",
       "      <th>2</th>\n",
       "      <td>Can I track the performance of my email campai...</td>\n",
       "      <td>15</td>\n",
       "    </tr>\n",
       "    <tr>\n",
       "      <th>3</th>\n",
       "      <td>I want to track my emails[SEP]Title : Manage, ...</td>\n",
       "      <td>15</td>\n",
       "    </tr>\n",
       "    <tr>\n",
       "      <th>4</th>\n",
       "      <td>Where can I find the list of email templates[S...</td>\n",
       "      <td>12</td>\n",
       "    </tr>\n",
       "  </tbody>\n",
       "</table>\n",
       "</div>"
      ],
      "text/plain": [
       "                                              prompt  completion\n",
       "0  Edit Text only email template[SEP]Title : Conv...          13\n",
       "1  I want to design my own email template[SEP]Tit...          23\n",
       "2  Can I track the performance of my email campai...          15\n",
       "3  I want to track my emails[SEP]Title : Manage, ...          15\n",
       "4  Where can I find the list of email templates[S...          12"
      ]
     },
     "execution_count": 4,
     "metadata": {},
     "output_type": "execute_result"
    }
   ],
   "source": [
    "test = pd.read_json('final_dataset1_prepared_valid.jsonl', lines=True)\n",
    "test.head()"
   ]
  },
  {
   "attachments": {},
   "cell_type": "markdown",
   "metadata": {},
   "source": [
    "We need to use the same separator following the prompt which we used during fine-tuning. In this case it is `\\n\\n###\\n\\n`. Since we're concerned with classification, we want the temperature to be as low as possible, and we only require one token completion to determine the prediction of the model."
   ]
  },
  {
   "cell_type": "code",
   "execution_count": 10,
   "metadata": {},
   "outputs": [],
   "source": [
    "openai.api_key=os.getenv(\"OPENAI_API_KEY\")"
   ]
  },
  {
   "cell_type": "code",
   "execution_count": 15,
   "metadata": {},
   "outputs": [
    {
     "data": {
      "text/plain": [
       "'I want to track my emails[SEP]Title : Manage, create and send your email campaigns\\ndiv : Your free trial expires in\\xa030 days\\ndiv : 30 days\\ndiv : Upgrade now\\ndiv : close\\nlabel : Owner\\nlabel : Taimoor Sardar\\ndiv : expand_more\\ndiv : home\\ndiv : add\\nspan : Campaigns\\ndiv : expand_more\\nspan : Growth Tools\\nspan : Audience\\nspan : Reports\\ndiv : Automation\\ndiv : 0 out of 1,000\\xa0members\\ndiv : expand_more\\ndiv : search\\ninput : No Type : No Name\\ndiv : All\\ndiv : All\\ndiv : keyboard_arrow_down\\ndiv : help\\ndiv : person\\ndiv : expand_more\\ndiv : Welcome\\ndiv : Let\\x92s help you get started!\\ndiv : 1\\ndiv : Create your first email list\\ndiv : 2\\ndiv : Import your subscribers\\ndiv : 3\\ndiv : Set up your first \\x93from\\x94 name\\ndiv : 4\\ndiv : Create your first campaign\\nlabel : STEP 1 OF 4\\nlabel : Create your first email list\\ndiv : Email lists allow you to store and manage all your subscribers\\x92 data that you can later use for personalizing your emails.\\ndiv : It\\x92s a critical first step to getting started, so let\\x92s get things rolling!\\nbutton : Create an email list\\n\\n###\\n\\n'"
      ]
     },
     "execution_count": 15,
     "metadata": {},
     "output_type": "execute_result"
    }
   ],
   "source": [
    "test['prompt'][3]"
   ]
  },
  {
   "cell_type": "code",
   "execution_count": 16,
   "metadata": {},
   "outputs": [
    {
     "data": {
      "text/plain": [
       "15"
      ]
     },
     "execution_count": 16,
     "metadata": {},
     "output_type": "execute_result"
    }
   ],
   "source": [
    "test['completion'][3]"
   ]
  },
  {
   "cell_type": "code",
   "execution_count": 13,
   "metadata": {},
   "outputs": [
    {
     "data": {
      "text/plain": [
       "' 11'"
      ]
     },
     "execution_count": 13,
     "metadata": {},
     "output_type": "execute_result"
    }
   ],
   "source": [
    "ft_model = 'ada:ft-personal-2023-06-27-06-24-04'\n",
    "res = openai.Completion.create(model=ft_model, prompt=test['prompt'][3], max_tokens=1, temperature=0)\n",
    "res['choices'][0]['text']\n"
   ]
  },
  {
   "cell_type": "code",
   "execution_count": 30,
   "metadata": {},
   "outputs": [
    {
     "name": "stdout",
     "output_type": "stream",
     "text": [
      "i=0\n"
     ]
    }
   ],
   "source": [
    "ft_model = 'ada:ft-personal-2023-06-27-06-24-04'\n",
    "correct = 0\n",
    "dir_path = \"./errors/\"\n",
    "\n",
    "if not os.path.exists(dir_path):\n",
    "        os.makedirs(dir_path)\n",
    "\n",
    "for i, text in enumerate(test['prompt'][:3]):\n",
    "        \n",
    "        res = openai.Completion.create(model=ft_model, prompt=test['prompt'][i], max_tokens=1, temperature=0)\n",
    "\n",
    "        target = test['completion'][i]\n",
    "        prediction = int(res['choices'][0]['text'])\n",
    "\n",
    "        if target == prediction: \n",
    "             correct += 1\n",
    "             with open(\"./correc.txt\", \"a\") as f:\n",
    "                  f.write(f\"{i+1}\\n\")\n",
    "             print(f\"i={i}\")\n",
    "             continue\n",
    "\n",
    "        lines = text.split('\\n')\n",
    "\n",
    "        # Check if start_line and end_line are within the bounds of the lines array\n",
    "        if target <= len(lines):\n",
    "            lines[target-1] = '--------> ' + lines[target-1]\n",
    "        if prediction <= len(lines):\n",
    "            lines[prediction-1] = 'xxxxxxxx ' + lines[prediction-1]\n",
    "        else:\n",
    "             lines[len(lines)-1] = str(prediction) + \" xxx \" + lines[len(lines)-1]\n",
    "\n",
    "        # Create a new file for each text\n",
    "        filename = f\"text_{i+1}.txt\"\n",
    "        with open(os.path.join(dir_path, filename), \"w\") as f:\n",
    "            f.write('\\n'.join(lines))"
   ]
  },
  {
   "cell_type": "code",
   "execution_count": 24,
   "metadata": {},
   "outputs": [
    {
     "data": {
      "text/plain": [
       "' 10'"
      ]
     },
     "execution_count": 24,
     "metadata": {},
     "output_type": "execute_result"
    }
   ],
   "source": [
    "res['choices'][0]['text']"
   ]
  },
  {
   "cell_type": "code",
   "execution_count": 47,
   "metadata": {},
   "outputs": [],
   "source": [
    "itemNum = 1"
   ]
  },
  {
   "cell_type": "code",
   "execution_count": 48,
   "metadata": {},
   "outputs": [
    {
     "name": "stdout",
     "output_type": "stream",
     "text": [
      "Can you provide instructions for using Databricks on Google Cloud[SEP]Title : Google Cloud Free Trial – Databricks\n",
      "h1 : Try Databricks on Google Cloud for Free\n",
      "div : Get Started with a Free 14-day Trial of Databricks on Google Cloud.\n",
      "p : One open lakehouse platform to store and manage all of your data for data engineering, data science, and analytics.\n",
      "p : What you get:\n",
      "li : Databricks account on Google Cloud\n",
      "li : Single Sign-on into Databricks with Google Cloud Identity\n",
      "li : Single-click cluster set up running on Google Kubernetes Engine (GKE), processing data in your own account\n",
      "li : Built-in integration with Google Cloud Storage, Big Query, Pub/Sub and Looker\n",
      "li : Ability to run production ELT/ETL pipelines at massive scale\n",
      "li : Fully collaborative notebooks with multi-language support\n",
      "li : Out-of-the-box native support for ML frameworks like MLflow, scikit-learn, TensorFlow and Keras\n",
      "h2 : Please tell us about yourself\n",
      "div : *\n",
      "label : *First Name:\n",
      "input : text : FirstName\n",
      "label : *Last Name:\n",
      "input : text : LastName\n",
      "label : *Company Email:\n",
      "input : email : Email\n",
      "label : *Company Name:\n",
      "input : text : Company\n",
      "label : *Job Title:\n",
      "input : text : Title\n",
      "label : *Phone Number:\n",
      "input : tel : Phone\n",
      "label : *Country:\n",
      "option : Select...\n",
      "option : Afghanistan\n",
      "option : Åland Islands\n",
      "option : Albania\n",
      "option : Algeria\n",
      "option : American Samoa\n",
      "option : Andorra\n",
      "option : Angola\n",
      "option : Anguilla\n",
      "option : Antarctica\n",
      "option : Antigua and Barbuda\n",
      "option : Argentina\n",
      "option : Armenia\n",
      "option : Aruba\n",
      "option : Australia\n",
      "option : Austria\n",
      "option : Azerbaijan\n",
      "option : Bahamas\n",
      "option : Bahrain\n",
      "option : Bangladesh\n",
      "option : Barbados\n",
      "option : Belarus\n",
      "option : Belgium\n",
      "option : Belize\n",
      "option : Benin\n",
      "option : Bermuda\n",
      "option : Bhutan\n",
      "option : Bolivia, Plurinational State of\n",
      "option : Bonaire, Sint Eustatius and Saba\n",
      "option : Bosnia and Herzegovina\n",
      "option : Botswana\n",
      "option : Bouvet Island\n",
      "option : Brazil\n",
      "option : British Indian Ocean Territory\n",
      "option : Brunei Darussalam\n",
      "option : Bulgaria\n",
      "option : Burkina Faso\n",
      "option : Burundi\n",
      "option : Cambodia\n",
      "option : Cameroon\n",
      "option : Canada\n",
      "option : Cape Verde\n",
      "option : Cayman Islands\n",
      "option : Central African Republic\n",
      "option : Chad\n",
      "option : Chile\n",
      "option : China\n",
      "option : Christmas Island\n",
      "option : Cocos (Keeling) Islands\n",
      "option : Colombia\n",
      "option : Comoros\n",
      "option : Congo, the Democratic Republic of the\n",
      "option : Congo\n",
      "option : Cook Islands\n",
      "option : Costa Rica\n",
      "option : Côte d'Ivoire\n",
      "option : Croatia\n",
      "option : Cuba\n",
      "option : Curaçao\n",
      "option : Cyprus\n",
      "option : Czech Republic\n",
      "option : Denmark\n",
      "option : Djibouti\n",
      "option : Dominica\n",
      "option : Dominican Republic\n",
      "option : Ecuador\n",
      "option : Egypt\n",
      "option : El Salvador\n",
      "option : Equatorial Guinea\n",
      "option : Eritrea\n",
      "option : Estonia\n",
      "option : Ethiopia\n",
      "option : Falkland Islands (Malvinas)\n",
      "option : Faroe Islands\n",
      "option : Fiji\n",
      "option : Finland\n",
      "option : France\n",
      "option : French Guiana\n",
      "option : French Polynesia\n",
      "option : French Southern Territories\n",
      "option : Gabon\n",
      "option : Gambia\n",
      "option : Georgia\n",
      "option : Germany\n",
      "option : Ghana\n",
      "option : Gibraltar\n",
      "option : Greece\n",
      "option : Greenland\n",
      "option : Grenada\n",
      "option : Guadeloupe\n",
      "option : Guam\n",
      "option : Guatemala\n",
      "option : Guernsey\n",
      "option : Guinea\n",
      "option : Guinea-Bissau\n",
      "option : Guyana\n",
      "option : Haiti\n",
      "option : Heard Island and McDonald Islands\n",
      "option : Holy See (Vatican City State)\n",
      "option : Honduras\n",
      "option : Hong Kong\n",
      "option : Hungary\n",
      "option : Iceland\n",
      "option : India\n",
      "option : Indonesia\n",
      "option : Iran, Islamic Republic of\n",
      "option : Iraq\n",
      "option : Ireland\n",
      "option : Isle of Man\n",
      "option : Israel\n",
      "option : Italy\n",
      "option : Jamaica\n",
      "option : Japan\n",
      "option : Jersey\n",
      "option : Jordan\n",
      "option : Kazakhstan\n",
      "option : Kenya\n",
      "option : Kiribati\n",
      "option : Korea, Democratic People's Republic of\n",
      "option : Korea, Republic of\n",
      "option : Kuwait\n",
      "option : Kyrgyzstan\n",
      "option : Lao People's Democratic Republic\n",
      "option : Latvia\n",
      "option : Lebanon\n",
      "option : Lesotho\n",
      "option : Liberia\n",
      "option : Libya\n",
      "option : Liechtenstein\n",
      "option : Lithuania\n",
      "option : Luxembourg\n",
      "option : Macao\n",
      "option : Macedonia, the former Yugoslav Republic of\n",
      "option : Madagascar\n",
      "option : Malawi\n",
      "option : Malaysia\n",
      "option : Maldives\n",
      "option : Mali\n",
      "option : Malta\n",
      "option : Marshall Islands\n",
      "option : Martinique\n",
      "option : Mauritania\n",
      "option : Mauritius\n",
      "option : Mayotte\n",
      "option : Mexico\n",
      "option : Micronesia, Federated States of\n",
      "option : Moldova, Republic of\n",
      "option : Monaco\n",
      "option : Mongolia\n",
      "option : Montenegro\n",
      "option : Montserrat\n",
      "option : Morocco\n",
      "option : Mozambique\n",
      "option : Myanmar\n",
      "option : Namibia\n",
      "option : Nauru\n",
      "option : Nepal\n",
      "option : Netherlands\n",
      "option : New Caledonia\n",
      "option : New Zealand\n",
      "option : Nicaragua\n",
      "option : Niger\n",
      "option : Nigeria\n",
      "option : Niue\n",
      "option : Norfolk Island\n",
      "option : Northern Mariana Islands\n",
      "option : Norway\n",
      "option : Oman\n",
      "option : Pakistan\n",
      "option : Palau\n",
      "option : Palestinian Territory, Occupied\n",
      "option : Panama\n",
      "option : Papua New Guinea\n",
      "option : Paraguay\n",
      "option : Peru\n",
      "option : Philippines\n",
      "option : Pitcairn\n",
      "option : Poland\n",
      "option : Portugal\n",
      "option : Puerto Rico\n",
      "option : Qatar\n",
      "option : Réunion\n",
      "option : Romania\n",
      "option : Russian Federation\n",
      "option : Rwanda\n",
      "option : Saint Barthélemy\n",
      "option : Saint Helena, Ascension and Tristan da Cunha\n",
      "option : Saint Kitts and Nevis\n",
      "option : Saint Lucia\n",
      "option : Saint Martin (French part)\n",
      "option : Saint Pierre and Miquelon\n",
      "option : Saint Vincent and the Grenadines\n",
      "option : Samoa\n",
      "option : San Marino\n",
      "option : Sao Tome and Principe\n",
      "option : Saudi Arabia\n",
      "option : Senegal\n",
      "option : Serbia\n",
      "option : Seychelles\n",
      "option : Sierra Leone\n",
      "option : Singapore\n",
      "option : Sint Maarten (Dutch part)\n",
      "option : Slovakia\n",
      "option : Slovenia\n",
      "option : Solomon Islands\n",
      "option : Somalia\n",
      "option : South Africa\n",
      "option : South Georgia and the South Sandwich Islands\n",
      "option : South Sudan\n",
      "option : Spain\n",
      "option : Sri Lanka\n",
      "option : Sudan\n",
      "option : Suriname\n",
      "option : Svalbard and Jan Mayen\n",
      "option : Swaziland\n",
      "option : Sweden\n",
      "option : Switzerland\n",
      "option : Syrian Arab Republic\n",
      "option : Taiwan\n",
      "option : Tajikistan\n",
      "option : Tanzania, United Republic of\n",
      "option : Thailand\n",
      "option : Timor-Leste\n",
      "option : Togo\n",
      "option : Tokelau\n",
      "option : Tonga\n",
      "option : Trinidad and Tobago\n",
      "option : Tunisia\n",
      "option : Turkey\n",
      "option : Turkmenistan\n",
      "option : Turks and Caicos Islands\n",
      "option : Tuvalu\n",
      "option : Uganda\n",
      "option : Ukraine\n",
      "option : United Arab Emirates\n",
      "option : United Kingdom\n",
      "option : United States\n",
      "option : United States Minor Outlying Islands\n",
      "option : Uruguay\n",
      "option : Uzbekistan\n",
      "option : Vanuatu\n",
      "option : Venezuela, Bolivarian Republic of\n",
      "option : Viet Nam\n",
      "option : Virgin Islands, British\n",
      "option : Virgin Islands, U.S.\n",
      "option : Wallis and Futuna\n",
      "option : Western Sahara\n",
      "option : Yemen\n",
      "option : Zambia\n",
      "option : Zimbabwe\n",
      "a : Privacy Policy\n",
      "a : update my preferences\n",
      "input : checkbox : mkto_form_consent\n",
      "input : checkbox : No Name\n",
      "button : Get Started For Free\n",
      "a : Product\n",
      "a : Platform Overview\n",
      "a : Pricing\n",
      "a : Open Source Tech\n",
      "a : Try Databricks\n",
      "a : Demo\n",
      "a : Product\n",
      "a : Platform Overview\n",
      "a : Pricing\n",
      "a : Open Source Tech\n",
      "a : Try Databricks\n",
      "a : Demo\n",
      "a : Learn & Support\n",
      "a : Documentation\n",
      "a : Glossary\n",
      "a : Training & Certification\n",
      "a : Help Center\n",
      "a : Legal\n",
      "a : Online Community\n",
      "a : Learn & Support\n",
      "a : Documentation\n",
      "a : Glossary\n",
      "a : Training & Certification\n",
      "a : Help Center\n",
      "a : Legal\n",
      "a : Online Community\n",
      "a : Solutions\n",
      "a : By Industries\n",
      "a : Professional Services\n",
      "a : Solutions\n",
      "a : By Industries\n",
      "a : Professional Services\n",
      "a : Company\n",
      "a : About Us\n",
      "a : Careers at Databricks\n",
      "a : Diversity and Inclusion\n",
      "a : Company Blog\n",
      "a : Contact Us\n",
      "a : Company\n",
      "a : About Us\n",
      "a : Careers at Databricks\n",
      "a : Diversity and Inclusion\n",
      "a : Company Blog\n",
      "a : Contact Us\n",
      "a : See Careers at Databricks\n",
      "button : Worldwide\n",
      "a : English (United States)\n",
      "a : Deutsch (Germany)\n",
      "a : Français (France)\n",
      "a : Italiano (Italy)\n",
      "a : 日本語 (Japan)\n",
      "a : 한국어 (South Korea)\n",
      "a : Português (Brazil)\n",
      "p : Databricks Inc. 160 Spear Street, 13th Floor San Francisco, CA 94105 1-866-330-0121\n",
      "a : Apache Software Foundation.\n",
      "a : Privacy Notice\n",
      "span : |\n",
      "a : Terms of Use\n",
      "a : Your Privacy Choices\n",
      "a : Your California Privacy Rights\n",
      "h2 : We Care About Your Privacy\n",
      "a : Cookie Notice\n",
      "button : Reject All\n",
      "button : Accept All\n",
      "button : Manage Preferences\n",
      "div : Privacy Preference Center\n",
      "h2 : Privacy Preference Center\n",
      "li : Your Privacy\n",
      "h3 : Your Privacy\n",
      "h3 : Strictly Necessary Cookies\n",
      "h3 : Performance Cookies\n",
      "h3 : Functional Cookies\n",
      "h3 : Targeting Cookies\n",
      "h4 : Your Privacy\n",
      "b : For California residents\n",
      "a : More information\n",
      "h4 : Strictly Necessary Cookies\n",
      "div : Always Active\n",
      "h4 : Performance Cookies\n",
      "input : checkbox : ot-group-id-C0002\n",
      "span : Performance Cookies\n",
      "h4 : Functional Cookies\n",
      "input : checkbox : ot-group-id-C0003\n",
      "span : Functional Cookies\n",
      "h4 : Targeting Cookies\n",
      "input : checkbox : ot-group-id-C0004\n",
      "span : Targeting Cookies\n",
      "title : Back Button\n",
      "h3 : Back\n",
      "input : text : vendor-search-handler\n",
      "title : Filter Button\n",
      "span : Consent\n",
      "span : Leg.Interest\n",
      "input : checkbox : switch\n",
      "span : Switch Label\n",
      "span : label\n",
      "input : checkbox : switch\n",
      "input : checkbox : switch\n",
      "button : Clear\n",
      "input : checkbox : No Name\n",
      "span : checkbox label\n",
      "button : Apply\n",
      "button : Cancel\n",
      "button : Confirm My Choices\n",
      "button : Allow All\n",
      "\n",
      "###\n",
      "\n",
      "\n",
      "16\n"
     ]
    }
   ],
   "source": [
    "print(train['prompt'][itemNum])\n",
    "print(train[\"completion\"][itemNum])\n"
   ]
  },
  {
   "cell_type": "code",
   "execution_count": 49,
   "metadata": {},
   "outputs": [
    {
     "ename": "InvalidRequestError",
     "evalue": "This model's maximum context length is 2049 tokens, however you requested 2412 tokens (2411 in your prompt; 1 for the completion). Please reduce your prompt; or completion length.",
     "output_type": "error",
     "traceback": [
      "\u001b[0;31m---------------------------------------------------------------------------\u001b[0m",
      "\u001b[0;31mInvalidRequestError\u001b[0m                       Traceback (most recent call last)",
      "Cell \u001b[0;32mIn[49], line 2\u001b[0m\n\u001b[1;32m      1\u001b[0m ft_model \u001b[39m=\u001b[39m \u001b[39m'\u001b[39m\u001b[39mada:ft-personal-2023-06-26-06-15-06\u001b[39m\u001b[39m'\u001b[39m\n\u001b[0;32m----> 2\u001b[0m res \u001b[39m=\u001b[39m openai\u001b[39m.\u001b[39;49mCompletion\u001b[39m.\u001b[39;49mcreate(model\u001b[39m=\u001b[39;49mft_model, prompt\u001b[39m=\u001b[39;49mtrain[\u001b[39m'\u001b[39;49m\u001b[39mprompt\u001b[39;49m\u001b[39m'\u001b[39;49m][itemNum] \u001b[39m+\u001b[39;49m \u001b[39m'\u001b[39;49m\u001b[39m\\n\u001b[39;49;00m\u001b[39m\\n\u001b[39;49;00m\u001b[39m###\u001b[39;49m\u001b[39m\\n\u001b[39;49;00m\u001b[39m\\n\u001b[39;49;00m\u001b[39m'\u001b[39;49m, max_tokens\u001b[39m=\u001b[39;49m\u001b[39m1\u001b[39;49m, temperature\u001b[39m=\u001b[39;49m\u001b[39m0\u001b[39;49m)\n\u001b[1;32m      3\u001b[0m res[\u001b[39m'\u001b[39m\u001b[39mchoices\u001b[39m\u001b[39m'\u001b[39m][\u001b[39m0\u001b[39m][\u001b[39m'\u001b[39m\u001b[39mtext\u001b[39m\u001b[39m'\u001b[39m]\n",
      "File \u001b[0;32m~/opt/anaconda3/envs/seleniumScrap/lib/python3.9/site-packages/openai/api_resources/completion.py:25\u001b[0m, in \u001b[0;36mCompletion.create\u001b[0;34m(cls, *args, **kwargs)\u001b[0m\n\u001b[1;32m     23\u001b[0m \u001b[39mwhile\u001b[39;00m \u001b[39mTrue\u001b[39;00m:\n\u001b[1;32m     24\u001b[0m     \u001b[39mtry\u001b[39;00m:\n\u001b[0;32m---> 25\u001b[0m         \u001b[39mreturn\u001b[39;00m \u001b[39msuper\u001b[39;49m()\u001b[39m.\u001b[39;49mcreate(\u001b[39m*\u001b[39;49margs, \u001b[39m*\u001b[39;49m\u001b[39m*\u001b[39;49mkwargs)\n\u001b[1;32m     26\u001b[0m     \u001b[39mexcept\u001b[39;00m TryAgain \u001b[39mas\u001b[39;00m e:\n\u001b[1;32m     27\u001b[0m         \u001b[39mif\u001b[39;00m timeout \u001b[39mis\u001b[39;00m \u001b[39mnot\u001b[39;00m \u001b[39mNone\u001b[39;00m \u001b[39mand\u001b[39;00m time\u001b[39m.\u001b[39mtime() \u001b[39m>\u001b[39m start \u001b[39m+\u001b[39m timeout:\n",
      "File \u001b[0;32m~/opt/anaconda3/envs/seleniumScrap/lib/python3.9/site-packages/openai/api_resources/abstract/engine_api_resource.py:153\u001b[0m, in \u001b[0;36mEngineAPIResource.create\u001b[0;34m(cls, api_key, api_base, api_type, request_id, api_version, organization, **params)\u001b[0m\n\u001b[1;32m    127\u001b[0m \u001b[39m@classmethod\u001b[39m\n\u001b[1;32m    128\u001b[0m \u001b[39mdef\u001b[39;00m \u001b[39mcreate\u001b[39m(\n\u001b[1;32m    129\u001b[0m     \u001b[39mcls\u001b[39m,\n\u001b[0;32m   (...)\u001b[0m\n\u001b[1;32m    136\u001b[0m     \u001b[39m*\u001b[39m\u001b[39m*\u001b[39mparams,\n\u001b[1;32m    137\u001b[0m ):\n\u001b[1;32m    138\u001b[0m     (\n\u001b[1;32m    139\u001b[0m         deployment_id,\n\u001b[1;32m    140\u001b[0m         engine,\n\u001b[0;32m   (...)\u001b[0m\n\u001b[1;32m    150\u001b[0m         api_key, api_base, api_type, api_version, organization, \u001b[39m*\u001b[39m\u001b[39m*\u001b[39mparams\n\u001b[1;32m    151\u001b[0m     )\n\u001b[0;32m--> 153\u001b[0m     response, _, api_key \u001b[39m=\u001b[39m requestor\u001b[39m.\u001b[39;49mrequest(\n\u001b[1;32m    154\u001b[0m         \u001b[39m\"\u001b[39;49m\u001b[39mpost\u001b[39;49m\u001b[39m\"\u001b[39;49m,\n\u001b[1;32m    155\u001b[0m         url,\n\u001b[1;32m    156\u001b[0m         params\u001b[39m=\u001b[39;49mparams,\n\u001b[1;32m    157\u001b[0m         headers\u001b[39m=\u001b[39;49mheaders,\n\u001b[1;32m    158\u001b[0m         stream\u001b[39m=\u001b[39;49mstream,\n\u001b[1;32m    159\u001b[0m         request_id\u001b[39m=\u001b[39;49mrequest_id,\n\u001b[1;32m    160\u001b[0m         request_timeout\u001b[39m=\u001b[39;49mrequest_timeout,\n\u001b[1;32m    161\u001b[0m     )\n\u001b[1;32m    163\u001b[0m     \u001b[39mif\u001b[39;00m stream:\n\u001b[1;32m    164\u001b[0m         \u001b[39m# must be an iterator\u001b[39;00m\n\u001b[1;32m    165\u001b[0m         \u001b[39massert\u001b[39;00m \u001b[39mnot\u001b[39;00m \u001b[39misinstance\u001b[39m(response, OpenAIResponse)\n",
      "File \u001b[0;32m~/opt/anaconda3/envs/seleniumScrap/lib/python3.9/site-packages/openai/api_requestor.py:298\u001b[0m, in \u001b[0;36mAPIRequestor.request\u001b[0;34m(self, method, url, params, headers, files, stream, request_id, request_timeout)\u001b[0m\n\u001b[1;32m    277\u001b[0m \u001b[39mdef\u001b[39;00m \u001b[39mrequest\u001b[39m(\n\u001b[1;32m    278\u001b[0m     \u001b[39mself\u001b[39m,\n\u001b[1;32m    279\u001b[0m     method,\n\u001b[0;32m   (...)\u001b[0m\n\u001b[1;32m    286\u001b[0m     request_timeout: Optional[Union[\u001b[39mfloat\u001b[39m, Tuple[\u001b[39mfloat\u001b[39m, \u001b[39mfloat\u001b[39m]]] \u001b[39m=\u001b[39m \u001b[39mNone\u001b[39;00m,\n\u001b[1;32m    287\u001b[0m ) \u001b[39m-\u001b[39m\u001b[39m>\u001b[39m Tuple[Union[OpenAIResponse, Iterator[OpenAIResponse]], \u001b[39mbool\u001b[39m, \u001b[39mstr\u001b[39m]:\n\u001b[1;32m    288\u001b[0m     result \u001b[39m=\u001b[39m \u001b[39mself\u001b[39m\u001b[39m.\u001b[39mrequest_raw(\n\u001b[1;32m    289\u001b[0m         method\u001b[39m.\u001b[39mlower(),\n\u001b[1;32m    290\u001b[0m         url,\n\u001b[0;32m   (...)\u001b[0m\n\u001b[1;32m    296\u001b[0m         request_timeout\u001b[39m=\u001b[39mrequest_timeout,\n\u001b[1;32m    297\u001b[0m     )\n\u001b[0;32m--> 298\u001b[0m     resp, got_stream \u001b[39m=\u001b[39m \u001b[39mself\u001b[39;49m\u001b[39m.\u001b[39;49m_interpret_response(result, stream)\n\u001b[1;32m    299\u001b[0m     \u001b[39mreturn\u001b[39;00m resp, got_stream, \u001b[39mself\u001b[39m\u001b[39m.\u001b[39mapi_key\n",
      "File \u001b[0;32m~/opt/anaconda3/envs/seleniumScrap/lib/python3.9/site-packages/openai/api_requestor.py:700\u001b[0m, in \u001b[0;36mAPIRequestor._interpret_response\u001b[0;34m(self, result, stream)\u001b[0m\n\u001b[1;32m    692\u001b[0m     \u001b[39mreturn\u001b[39;00m (\n\u001b[1;32m    693\u001b[0m         \u001b[39mself\u001b[39m\u001b[39m.\u001b[39m_interpret_response_line(\n\u001b[1;32m    694\u001b[0m             line, result\u001b[39m.\u001b[39mstatus_code, result\u001b[39m.\u001b[39mheaders, stream\u001b[39m=\u001b[39m\u001b[39mTrue\u001b[39;00m\n\u001b[1;32m    695\u001b[0m         )\n\u001b[1;32m    696\u001b[0m         \u001b[39mfor\u001b[39;00m line \u001b[39min\u001b[39;00m parse_stream(result\u001b[39m.\u001b[39miter_lines())\n\u001b[1;32m    697\u001b[0m     ), \u001b[39mTrue\u001b[39;00m\n\u001b[1;32m    698\u001b[0m \u001b[39melse\u001b[39;00m:\n\u001b[1;32m    699\u001b[0m     \u001b[39mreturn\u001b[39;00m (\n\u001b[0;32m--> 700\u001b[0m         \u001b[39mself\u001b[39;49m\u001b[39m.\u001b[39;49m_interpret_response_line(\n\u001b[1;32m    701\u001b[0m             result\u001b[39m.\u001b[39;49mcontent\u001b[39m.\u001b[39;49mdecode(\u001b[39m\"\u001b[39;49m\u001b[39mutf-8\u001b[39;49m\u001b[39m\"\u001b[39;49m),\n\u001b[1;32m    702\u001b[0m             result\u001b[39m.\u001b[39;49mstatus_code,\n\u001b[1;32m    703\u001b[0m             result\u001b[39m.\u001b[39;49mheaders,\n\u001b[1;32m    704\u001b[0m             stream\u001b[39m=\u001b[39;49m\u001b[39mFalse\u001b[39;49;00m,\n\u001b[1;32m    705\u001b[0m         ),\n\u001b[1;32m    706\u001b[0m         \u001b[39mFalse\u001b[39;00m,\n\u001b[1;32m    707\u001b[0m     )\n",
      "File \u001b[0;32m~/opt/anaconda3/envs/seleniumScrap/lib/python3.9/site-packages/openai/api_requestor.py:763\u001b[0m, in \u001b[0;36mAPIRequestor._interpret_response_line\u001b[0;34m(self, rbody, rcode, rheaders, stream)\u001b[0m\n\u001b[1;32m    761\u001b[0m stream_error \u001b[39m=\u001b[39m stream \u001b[39mand\u001b[39;00m \u001b[39m\"\u001b[39m\u001b[39merror\u001b[39m\u001b[39m\"\u001b[39m \u001b[39min\u001b[39;00m resp\u001b[39m.\u001b[39mdata\n\u001b[1;32m    762\u001b[0m \u001b[39mif\u001b[39;00m stream_error \u001b[39mor\u001b[39;00m \u001b[39mnot\u001b[39;00m \u001b[39m200\u001b[39m \u001b[39m<\u001b[39m\u001b[39m=\u001b[39m rcode \u001b[39m<\u001b[39m \u001b[39m300\u001b[39m:\n\u001b[0;32m--> 763\u001b[0m     \u001b[39mraise\u001b[39;00m \u001b[39mself\u001b[39m\u001b[39m.\u001b[39mhandle_error_response(\n\u001b[1;32m    764\u001b[0m         rbody, rcode, resp\u001b[39m.\u001b[39mdata, rheaders, stream_error\u001b[39m=\u001b[39mstream_error\n\u001b[1;32m    765\u001b[0m     )\n\u001b[1;32m    766\u001b[0m \u001b[39mreturn\u001b[39;00m resp\n",
      "\u001b[0;31mInvalidRequestError\u001b[0m: This model's maximum context length is 2049 tokens, however you requested 2412 tokens (2411 in your prompt; 1 for the completion). Please reduce your prompt; or completion length."
     ]
    }
   ],
   "source": [
    "ft_model = 'ada:ft-personal-2023-06-26-06-15-06'\n",
    "res = openai.Completion.create(model=ft_model, prompt=train['prompt'][itemNum] + '\\n\\n###\\n\\n', max_tokens=1, temperature=0)\n",
    "res['choices'][0]['text']"
   ]
  },
  {
   "attachments": {},
   "cell_type": "markdown",
   "metadata": {},
   "source": [
    "To get the log probabilities, we can specify logprobs parameter on the completion request"
   ]
  },
  {
   "cell_type": "code",
   "execution_count": 15,
   "metadata": {},
   "outputs": [
    {
     "data": {
      "text/plain": [
       "<OpenAIObject at 0x7fe114e435c8> JSON: {\n",
       "  \" baseball\": -7.6311407,\n",
       "  \" hockey\": -0.0006307676\n",
       "}"
      ]
     },
     "execution_count": 15,
     "metadata": {},
     "output_type": "execute_result"
    }
   ],
   "source": [
    "res = openai.Completion.create(model=ft_model, prompt=test['prompt'][0] + '\\n\\n###\\n\\n', max_tokens=1, temperature=0, logprobs=2)\n",
    "res['choices'][0]['logprobs']['top_logprobs'][0]"
   ]
  },
  {
   "attachments": {},
   "cell_type": "markdown",
   "metadata": {},
   "source": [
    "We can see that the model predicts hockey as a lot more likely than baseball, which is the correct prediction. By requesting log_probs, we can see the prediction (log) probability for each class."
   ]
  },
  {
   "attachments": {},
   "cell_type": "markdown",
   "metadata": {},
   "source": [
    "### Generalization\n",
    "Interestingly, our fine-tuned classifier is quite versatile. Despite being trained on emails to different mailing lists, it also successfully predicts tweets."
   ]
  },
  {
   "cell_type": "code",
   "execution_count": 16,
   "metadata": {},
   "outputs": [
    {
     "data": {
      "text/plain": [
       "' hockey'"
      ]
     },
     "execution_count": 16,
     "metadata": {},
     "output_type": "execute_result"
    }
   ],
   "source": [
    "sample_hockey_tweet = \"\"\"Thank you to the \n",
    "@Canes\n",
    " and all you amazing Caniacs that have been so supportive! You guys are some of the best fans in the NHL without a doubt! Really excited to start this new chapter in my career with the \n",
    "@DetroitRedWings\n",
    " !!\"\"\"\n",
    "res = openai.Completion.create(model=ft_model, prompt=sample_hockey_tweet + '\\n\\n###\\n\\n', max_tokens=1, temperature=0, logprobs=2)\n",
    "res['choices'][0]['text']"
   ]
  },
  {
   "cell_type": "code",
   "execution_count": 17,
   "metadata": {},
   "outputs": [
    {
     "data": {
      "text/plain": [
       "' baseball'"
      ]
     },
     "execution_count": 17,
     "metadata": {},
     "output_type": "execute_result"
    }
   ],
   "source": [
    "sample_baseball_tweet=\"\"\"BREAKING: The Tampa Bay Rays are finalizing a deal to acquire slugger Nelson Cruz from the Minnesota Twins, sources tell ESPN.\"\"\"\n",
    "res = openai.Completion.create(model=ft_model, prompt=sample_baseball_tweet + '\\n\\n###\\n\\n', max_tokens=1, temperature=0, logprobs=2)\n",
    "res['choices'][0]['text']"
   ]
  }
 ],
 "metadata": {
  "interpreter": {
   "hash": "3b138a8faad971cc852f62bcf00f59ea0e31721743ea2c5a866ca26adf572e75"
  },
  "kernelspec": {
   "display_name": "Python 3.7.3 64-bit ('base': conda)",
   "name": "python3"
  },
  "language_info": {
   "codemirror_mode": {
    "name": "ipython",
    "version": 3
   },
   "file_extension": ".py",
   "mimetype": "text/x-python",
   "name": "python",
   "nbconvert_exporter": "python",
   "pygments_lexer": "ipython3",
   "version": "3.9.16"
  },
  "orig_nbformat": 4
 },
 "nbformat": 4,
 "nbformat_minor": 2
}
